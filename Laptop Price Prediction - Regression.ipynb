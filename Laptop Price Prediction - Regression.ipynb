{
 "cells": [
  {
   "cell_type": "markdown",
   "id": "0d8a568b",
   "metadata": {},
   "source": [
    "# Laptop Price Prediction - Regression"
   ]
  },
  {
   "cell_type": "markdown",
   "id": "75a51266",
   "metadata": {},
   "source": [
    "###### BU ÖDEVİMİZDE LAPTOP FİYATLARINI VERİLEN DATAYA GÖRE TAHMİN EDEN BİR MODEL GELİŞTİRECEĞİZ."
   ]
  },
  {
   "cell_type": "code",
   "execution_count": 1,
   "id": "767d320d",
   "metadata": {},
   "outputs": [],
   "source": [
    "import pandas as pd #Data dosyalarunu okuma paketi\n",
    "pd.set_option(\"display.max_columns\",55)\n",
    "import seaborn as sns\n",
    "from scipy.stats import ttest_ind\n",
    "import plotly.express as px\n",
    "from sklearn.model_selection import train_test_split\n",
    "from sklearn.linear_model import LinearRegression\n",
    "from sklearn.metrics import r2_score, mean_squared_error\n",
    "from sklearn.linear_model import Ridge, Lasso, ElasticNet\n",
    "import matplotlib.pyplot as plt"
   ]
  },
  {
   "cell_type": "code",
   "execution_count": 2,
   "id": "04425405",
   "metadata": {},
   "outputs": [],
   "source": [
    "import warnings\n",
    "\n",
    "warnings.filterwarnings('ignore')"
   ]
  },
  {
   "cell_type": "code",
   "execution_count": 3,
   "id": "94588028",
   "metadata": {},
   "outputs": [],
   "source": [
    "import pandas as pd\n",
    "import numpy as np\n",
    "import matplotlib.pyplot as plt\n",
    "import seaborn as sns\n",
    "import warnings\n",
    "warnings.filterwarnings(\"ignore\")\n",
    "pd.set_option(\"display.max_columns\",100)\n",
    "\n",
    "from sklearn.linear_model import LinearRegression,SGDRegressor,Ridge,Lasso,ElasticNet\n",
    "from sklearn.neighbors import KNeighborsRegressor, RadiusNeighborsRegressor\n",
    "from sklearn.ensemble import GradientBoostingRegressor,AdaBoostRegressor\n",
    "from sklearn.tree import DecisionTreeRegressor, plot_tree, ExtraTreeRegressor\n",
    "#pip install xgboost\n",
    "from xgboost import XGBRegressor\n",
    "from sklearn.svm import SVR\n",
    "\n",
    "from sklearn.neural_network import MLPRegressor\n",
    "\n",
    "from sklearn.model_selection import train_test_split\n",
    "from sklearn.metrics import mean_squared_error,r2_score,mean_absolute_error\n",
    "\n",
    "from sklearn.preprocessing import StandardScaler\n",
    "\n",
    "\n",
    "def algo_test(x,y):\n",
    "        #Bütün modelleri tanımlıyorum\n",
    "        L=LinearRegression()\n",
    "        R=Ridge()\n",
    "        Lass=Lasso()\n",
    "        E=ElasticNet()\n",
    "        sgd=SGDRegressor()\n",
    "        ETR=ExtraTreeRegressor()\n",
    "        GBR=GradientBoostingRegressor()\n",
    "        kn=KNeighborsRegressor()\n",
    "        rkn=RadiusNeighborsRegressor(radius=1.0)\n",
    "        ada=AdaBoostRegressor()\n",
    "        dt=DecisionTreeRegressor()\n",
    "        xgb=XGBRegressor()\n",
    "        svr=SVR()\n",
    "        mlp_regressor = MLPRegressor()\n",
    "\n",
    "       \n",
    "        \n",
    "        algos=[L,R,Lass,E,sgd,ETR,GBR,ada,kn,dt,xgb,svr,mlp_regressor]\n",
    "        algo_names=['Linear','Ridge','Lasso','ElasticNet','SGD','Extra Tree','Gradient Boosting',\n",
    "                    'KNeighborsRegressor','AdaBoost','Decision Tree','XGBRegressor','SVR','mlp_regressor']\n",
    "        \n",
    "        x_train, x_test, y_train, y_test=train_test_split(x,y,test_size=.20,random_state=42)\n",
    "        \n",
    "        r_squared= []\n",
    "        rmse= []\n",
    "        mae= []\n",
    "        \n",
    "        #Hata ve doğruluk oranlarını bir tablo haline getirmek için bir dataframe oluşturuyorum\n",
    "        result=pd.DataFrame(columns=['R_Squared','RMSE','MAE'],index=algo_names)\n",
    "        \n",
    "        \n",
    "        for algo in algos:\n",
    "            p=algo.fit(x_train,y_train).predict(x_test)\n",
    "            r_squared.append(r2_score(y_test,p))\n",
    "            rmse.append(mean_squared_error(y_test,p)**.5)\n",
    "            mae.append(mean_absolute_error(y_test,p))\n",
    "        \n",
    "            \n",
    "\n",
    "        #result adlı tabloya doğruluk ve hata oranlarımı yerleştiriyorum\n",
    "        result.R_Squared=r_squared\n",
    "        result.RMSE=rmse\n",
    "        result.MAE=mae\n",
    "        \n",
    "       #oluşturduğum result tablosunu doğruluk oranına (r2_score) göre sıralayıp dönüyor\n",
    "        rtable=result.sort_values('R_Squared',ascending=False)\n",
    "        return rtable"
   ]
  },
  {
   "cell_type": "code",
   "execution_count": 4,
   "id": "ff963f8b",
   "metadata": {},
   "outputs": [],
   "source": [
    "import pandas as pd"
   ]
  },
  {
   "cell_type": "code",
   "execution_count": 5,
   "id": "bcd11eac",
   "metadata": {},
   "outputs": [],
   "source": [
    "df=pd.read_csv('laptop_data.csv')"
   ]
  },
  {
   "cell_type": "code",
   "execution_count": 6,
   "id": "8e1cc052",
   "metadata": {},
   "outputs": [
    {
     "data": {
      "text/html": [
       "<div>\n",
       "<style scoped>\n",
       "    .dataframe tbody tr th:only-of-type {\n",
       "        vertical-align: middle;\n",
       "    }\n",
       "\n",
       "    .dataframe tbody tr th {\n",
       "        vertical-align: top;\n",
       "    }\n",
       "\n",
       "    .dataframe thead th {\n",
       "        text-align: right;\n",
       "    }\n",
       "</style>\n",
       "<table border=\"1\" class=\"dataframe\">\n",
       "  <thead>\n",
       "    <tr style=\"text-align: right;\">\n",
       "      <th></th>\n",
       "      <th>Unnamed: 0</th>\n",
       "      <th>Company</th>\n",
       "      <th>TypeName</th>\n",
       "      <th>Inches</th>\n",
       "      <th>ScreenResolution</th>\n",
       "      <th>Cpu</th>\n",
       "      <th>Ram</th>\n",
       "      <th>Memory</th>\n",
       "      <th>Gpu</th>\n",
       "      <th>OpSys</th>\n",
       "      <th>Weight</th>\n",
       "      <th>Price</th>\n",
       "    </tr>\n",
       "  </thead>\n",
       "  <tbody>\n",
       "    <tr>\n",
       "      <th>0</th>\n",
       "      <td>0</td>\n",
       "      <td>Apple</td>\n",
       "      <td>Ultrabook</td>\n",
       "      <td>13.3</td>\n",
       "      <td>IPS Panel Retina Display 2560x1600</td>\n",
       "      <td>Intel Core i5 2.3GHz</td>\n",
       "      <td>8GB</td>\n",
       "      <td>128GB SSD</td>\n",
       "      <td>Intel Iris Plus Graphics 640</td>\n",
       "      <td>macOS</td>\n",
       "      <td>1.37kg</td>\n",
       "      <td>71378.6832</td>\n",
       "    </tr>\n",
       "    <tr>\n",
       "      <th>1</th>\n",
       "      <td>1</td>\n",
       "      <td>Apple</td>\n",
       "      <td>Ultrabook</td>\n",
       "      <td>13.3</td>\n",
       "      <td>1440x900</td>\n",
       "      <td>Intel Core i5 1.8GHz</td>\n",
       "      <td>8GB</td>\n",
       "      <td>128GB Flash Storage</td>\n",
       "      <td>Intel HD Graphics 6000</td>\n",
       "      <td>macOS</td>\n",
       "      <td>1.34kg</td>\n",
       "      <td>47895.5232</td>\n",
       "    </tr>\n",
       "    <tr>\n",
       "      <th>2</th>\n",
       "      <td>2</td>\n",
       "      <td>HP</td>\n",
       "      <td>Notebook</td>\n",
       "      <td>15.6</td>\n",
       "      <td>Full HD 1920x1080</td>\n",
       "      <td>Intel Core i5 7200U 2.5GHz</td>\n",
       "      <td>8GB</td>\n",
       "      <td>256GB SSD</td>\n",
       "      <td>Intel HD Graphics 620</td>\n",
       "      <td>No OS</td>\n",
       "      <td>1.86kg</td>\n",
       "      <td>30636.0000</td>\n",
       "    </tr>\n",
       "    <tr>\n",
       "      <th>3</th>\n",
       "      <td>3</td>\n",
       "      <td>Apple</td>\n",
       "      <td>Ultrabook</td>\n",
       "      <td>15.4</td>\n",
       "      <td>IPS Panel Retina Display 2880x1800</td>\n",
       "      <td>Intel Core i7 2.7GHz</td>\n",
       "      <td>16GB</td>\n",
       "      <td>512GB SSD</td>\n",
       "      <td>AMD Radeon Pro 455</td>\n",
       "      <td>macOS</td>\n",
       "      <td>1.83kg</td>\n",
       "      <td>135195.3360</td>\n",
       "    </tr>\n",
       "    <tr>\n",
       "      <th>4</th>\n",
       "      <td>4</td>\n",
       "      <td>Apple</td>\n",
       "      <td>Ultrabook</td>\n",
       "      <td>13.3</td>\n",
       "      <td>IPS Panel Retina Display 2560x1600</td>\n",
       "      <td>Intel Core i5 3.1GHz</td>\n",
       "      <td>8GB</td>\n",
       "      <td>256GB SSD</td>\n",
       "      <td>Intel Iris Plus Graphics 650</td>\n",
       "      <td>macOS</td>\n",
       "      <td>1.37kg</td>\n",
       "      <td>96095.8080</td>\n",
       "    </tr>\n",
       "  </tbody>\n",
       "</table>\n",
       "</div>"
      ],
      "text/plain": [
       "   Unnamed: 0 Company   TypeName  Inches                    ScreenResolution  \\\n",
       "0           0   Apple  Ultrabook    13.3  IPS Panel Retina Display 2560x1600   \n",
       "1           1   Apple  Ultrabook    13.3                            1440x900   \n",
       "2           2      HP   Notebook    15.6                   Full HD 1920x1080   \n",
       "3           3   Apple  Ultrabook    15.4  IPS Panel Retina Display 2880x1800   \n",
       "4           4   Apple  Ultrabook    13.3  IPS Panel Retina Display 2560x1600   \n",
       "\n",
       "                          Cpu   Ram               Memory  \\\n",
       "0        Intel Core i5 2.3GHz   8GB            128GB SSD   \n",
       "1        Intel Core i5 1.8GHz   8GB  128GB Flash Storage   \n",
       "2  Intel Core i5 7200U 2.5GHz   8GB            256GB SSD   \n",
       "3        Intel Core i7 2.7GHz  16GB            512GB SSD   \n",
       "4        Intel Core i5 3.1GHz   8GB            256GB SSD   \n",
       "\n",
       "                            Gpu  OpSys  Weight        Price  \n",
       "0  Intel Iris Plus Graphics 640  macOS  1.37kg   71378.6832  \n",
       "1        Intel HD Graphics 6000  macOS  1.34kg   47895.5232  \n",
       "2         Intel HD Graphics 620  No OS  1.86kg   30636.0000  \n",
       "3            AMD Radeon Pro 455  macOS  1.83kg  135195.3360  \n",
       "4  Intel Iris Plus Graphics 650  macOS  1.37kg   96095.8080  "
      ]
     },
     "execution_count": 6,
     "metadata": {},
     "output_type": "execute_result"
    }
   ],
   "source": [
    "df.head()"
   ]
  },
  {
   "cell_type": "code",
   "execution_count": 7,
   "id": "685d25b8",
   "metadata": {
    "scrolled": true
   },
   "outputs": [
    {
     "data": {
      "text/plain": [
       "Unnamed: 0          0\n",
       "Company             0\n",
       "TypeName            0\n",
       "Inches              0\n",
       "ScreenResolution    0\n",
       "Cpu                 0\n",
       "Ram                 0\n",
       "Memory              0\n",
       "Gpu                 0\n",
       "OpSys               0\n",
       "Weight              0\n",
       "Price               0\n",
       "dtype: int64"
      ]
     },
     "execution_count": 7,
     "metadata": {},
     "output_type": "execute_result"
    }
   ],
   "source": [
    "df.isnull().sum()"
   ]
  },
  {
   "cell_type": "code",
   "execution_count": 8,
   "id": "da1658f1",
   "metadata": {},
   "outputs": [
    {
     "data": {
      "text/html": [
       "<div>\n",
       "<style scoped>\n",
       "    .dataframe tbody tr th:only-of-type {\n",
       "        vertical-align: middle;\n",
       "    }\n",
       "\n",
       "    .dataframe tbody tr th {\n",
       "        vertical-align: top;\n",
       "    }\n",
       "\n",
       "    .dataframe thead th {\n",
       "        text-align: right;\n",
       "    }\n",
       "</style>\n",
       "<table border=\"1\" class=\"dataframe\">\n",
       "  <thead>\n",
       "    <tr style=\"text-align: right;\">\n",
       "      <th></th>\n",
       "      <th>Unnamed: 0</th>\n",
       "      <th>Inches</th>\n",
       "      <th>Price</th>\n",
       "    </tr>\n",
       "  </thead>\n",
       "  <tbody>\n",
       "    <tr>\n",
       "      <th>Unnamed: 0</th>\n",
       "      <td>1.000000</td>\n",
       "      <td>-0.087936</td>\n",
       "      <td>0.067984</td>\n",
       "    </tr>\n",
       "    <tr>\n",
       "      <th>Inches</th>\n",
       "      <td>-0.087936</td>\n",
       "      <td>1.000000</td>\n",
       "      <td>0.068197</td>\n",
       "    </tr>\n",
       "    <tr>\n",
       "      <th>Price</th>\n",
       "      <td>0.067984</td>\n",
       "      <td>0.068197</td>\n",
       "      <td>1.000000</td>\n",
       "    </tr>\n",
       "  </tbody>\n",
       "</table>\n",
       "</div>"
      ],
      "text/plain": [
       "            Unnamed: 0    Inches     Price\n",
       "Unnamed: 0    1.000000 -0.087936  0.067984\n",
       "Inches       -0.087936  1.000000  0.068197\n",
       "Price         0.067984  0.068197  1.000000"
      ]
     },
     "execution_count": 8,
     "metadata": {},
     "output_type": "execute_result"
    }
   ],
   "source": [
    "df.corr(numeric_only=True)\n"
   ]
  },
  {
   "cell_type": "code",
   "execution_count": 9,
   "id": "386d584c",
   "metadata": {},
   "outputs": [],
   "source": [
    "#### YETERLİ VERİ OKUYAMIYORUZ.VERİLERİ ELLEÇLEYİP OKUNACAK HALE GETİRECEĞİZ."
   ]
  },
  {
   "cell_type": "code",
   "execution_count": 10,
   "id": "0acb733e",
   "metadata": {},
   "outputs": [
    {
     "data": {
      "text/html": [
       "<div>\n",
       "<style scoped>\n",
       "    .dataframe tbody tr th:only-of-type {\n",
       "        vertical-align: middle;\n",
       "    }\n",
       "\n",
       "    .dataframe tbody tr th {\n",
       "        vertical-align: top;\n",
       "    }\n",
       "\n",
       "    .dataframe thead th {\n",
       "        text-align: right;\n",
       "    }\n",
       "</style>\n",
       "<table border=\"1\" class=\"dataframe\">\n",
       "  <thead>\n",
       "    <tr style=\"text-align: right;\">\n",
       "      <th></th>\n",
       "      <th>Unnamed: 0</th>\n",
       "      <th>Inches</th>\n",
       "      <th>Price</th>\n",
       "    </tr>\n",
       "  </thead>\n",
       "  <tbody>\n",
       "    <tr>\n",
       "      <th>count</th>\n",
       "      <td>1303.00000</td>\n",
       "      <td>1303.000000</td>\n",
       "      <td>1303.000000</td>\n",
       "    </tr>\n",
       "    <tr>\n",
       "      <th>mean</th>\n",
       "      <td>651.00000</td>\n",
       "      <td>15.017191</td>\n",
       "      <td>59870.042910</td>\n",
       "    </tr>\n",
       "    <tr>\n",
       "      <th>std</th>\n",
       "      <td>376.28801</td>\n",
       "      <td>1.426304</td>\n",
       "      <td>37243.201786</td>\n",
       "    </tr>\n",
       "    <tr>\n",
       "      <th>min</th>\n",
       "      <td>0.00000</td>\n",
       "      <td>10.100000</td>\n",
       "      <td>9270.720000</td>\n",
       "    </tr>\n",
       "    <tr>\n",
       "      <th>25%</th>\n",
       "      <td>325.50000</td>\n",
       "      <td>14.000000</td>\n",
       "      <td>31914.720000</td>\n",
       "    </tr>\n",
       "    <tr>\n",
       "      <th>50%</th>\n",
       "      <td>651.00000</td>\n",
       "      <td>15.600000</td>\n",
       "      <td>52054.560000</td>\n",
       "    </tr>\n",
       "    <tr>\n",
       "      <th>75%</th>\n",
       "      <td>976.50000</td>\n",
       "      <td>15.600000</td>\n",
       "      <td>79274.246400</td>\n",
       "    </tr>\n",
       "    <tr>\n",
       "      <th>max</th>\n",
       "      <td>1302.00000</td>\n",
       "      <td>18.400000</td>\n",
       "      <td>324954.720000</td>\n",
       "    </tr>\n",
       "  </tbody>\n",
       "</table>\n",
       "</div>"
      ],
      "text/plain": [
       "       Unnamed: 0       Inches          Price\n",
       "count  1303.00000  1303.000000    1303.000000\n",
       "mean    651.00000    15.017191   59870.042910\n",
       "std     376.28801     1.426304   37243.201786\n",
       "min       0.00000    10.100000    9270.720000\n",
       "25%     325.50000    14.000000   31914.720000\n",
       "50%     651.00000    15.600000   52054.560000\n",
       "75%     976.50000    15.600000   79274.246400\n",
       "max    1302.00000    18.400000  324954.720000"
      ]
     },
     "execution_count": 10,
     "metadata": {},
     "output_type": "execute_result"
    }
   ],
   "source": [
    "df.describe()"
   ]
  },
  {
   "cell_type": "code",
   "execution_count": 11,
   "id": "7f8352a9",
   "metadata": {},
   "outputs": [
    {
     "name": "stdout",
     "output_type": "stream",
     "text": [
      "<class 'pandas.core.frame.DataFrame'>\n",
      "RangeIndex: 1303 entries, 0 to 1302\n",
      "Data columns (total 12 columns):\n",
      " #   Column            Non-Null Count  Dtype  \n",
      "---  ------            --------------  -----  \n",
      " 0   Unnamed: 0        1303 non-null   int64  \n",
      " 1   Company           1303 non-null   object \n",
      " 2   TypeName          1303 non-null   object \n",
      " 3   Inches            1303 non-null   float64\n",
      " 4   ScreenResolution  1303 non-null   object \n",
      " 5   Cpu               1303 non-null   object \n",
      " 6   Ram               1303 non-null   object \n",
      " 7   Memory            1303 non-null   object \n",
      " 8   Gpu               1303 non-null   object \n",
      " 9   OpSys             1303 non-null   object \n",
      " 10  Weight            1303 non-null   object \n",
      " 11  Price             1303 non-null   float64\n",
      "dtypes: float64(2), int64(1), object(9)\n",
      "memory usage: 122.3+ KB\n"
     ]
    }
   ],
   "source": [
    "df.info()"
   ]
  },
  {
   "cell_type": "code",
   "execution_count": 12,
   "id": "e622a122",
   "metadata": {},
   "outputs": [
    {
     "data": {
      "text/plain": [
       "0        Apple\n",
       "1        Apple\n",
       "2           HP\n",
       "3        Apple\n",
       "4        Apple\n",
       "         ...  \n",
       "1298    Lenovo\n",
       "1299    Lenovo\n",
       "1300    Lenovo\n",
       "1301        HP\n",
       "1302      Asus\n",
       "Name: Company, Length: 1303, dtype: object"
      ]
     },
     "execution_count": 12,
     "metadata": {},
     "output_type": "execute_result"
    }
   ],
   "source": [
    "df['Company']"
   ]
  },
  {
   "cell_type": "code",
   "execution_count": 13,
   "id": "d3533ffe",
   "metadata": {},
   "outputs": [
    {
     "data": {
      "text/plain": [
       "Company\n",
       "Dell         297\n",
       "Lenovo       297\n",
       "HP           274\n",
       "Asus         158\n",
       "Acer         103\n",
       "MSI           54\n",
       "Toshiba       48\n",
       "Apple         21\n",
       "Samsung        9\n",
       "Razer          7\n",
       "Mediacom       7\n",
       "Microsoft      6\n",
       "Xiaomi         4\n",
       "Vero           4\n",
       "Chuwi          3\n",
       "Google         3\n",
       "Fujitsu        3\n",
       "LG             3\n",
       "Huawei         2\n",
       "Name: count, dtype: int64"
      ]
     },
     "execution_count": 13,
     "metadata": {},
     "output_type": "execute_result"
    }
   ],
   "source": [
    "df['Company'].value_counts()"
   ]
  },
  {
   "cell_type": "code",
   "execution_count": 14,
   "id": "f70a3ab4",
   "metadata": {},
   "outputs": [
    {
     "data": {
      "text/plain": [
       "19"
      ]
     },
     "execution_count": 14,
     "metadata": {},
     "output_type": "execute_result"
    }
   ],
   "source": [
    "df['Company'].nunique()"
   ]
  },
  {
   "cell_type": "code",
   "execution_count": 15,
   "id": "a0990c4f",
   "metadata": {},
   "outputs": [],
   "source": [
    "import seaborn as sns\n",
    "import matplotlib as plt"
   ]
  },
  {
   "cell_type": "code",
   "execution_count": 16,
   "id": "e4bc6b6a",
   "metadata": {},
   "outputs": [
    {
     "data": {
      "text/plain": [
       "<Axes: xlabel='Company', ylabel='count'>"
      ]
     },
     "execution_count": 16,
     "metadata": {},
     "output_type": "execute_result"
    },
    {
     "data": {
      "image/png": "[encoded data removed]",
      "text/plain": [
       "<Figure size 640x480 with 1 Axes>"
      ]
     },
     "metadata": {},
     "output_type": "display_data"
    }
   ],
   "source": [
    "sns.countplot(x=df['Company'])\n"
   ]
  },
  {
   "cell_type": "code",
   "execution_count": 17,
   "id": "f8dd339e",
   "metadata": {},
   "outputs": [],
   "source": [
    "df['Company']=df['Company'].sort_values(ascending=True)"
   ]
  },
  {
   "cell_type": "code",
   "execution_count": 18,
   "id": "bbfac037",
   "metadata": {},
   "outputs": [
    {
     "data": {
      "image/png": "[encoded data removed]",
      "text/plain": [
       "<Figure size 1200x600 with 1 Axes>"
      ]
     },
     "metadata": {},
     "output_type": "display_data"
    }
   ],
   "source": [
    "import seaborn as sns\n",
    "import matplotlib.pyplot as plt\n",
    "\n",
    "# Grafiği oluşturun\n",
    "fig, ax = plt.subplots(figsize=(12, 6))\n",
    "sns.countplot(x=df[\"Company\"], ax=ax)\n",
    "\n",
    "# X eksenindeki etiketleri dik yazdırmak için\n",
    "ax.set_xticklabels(ax.get_xticklabels(), rotation=90)\n",
    "ax.bar_label(ax.containers[0])\n",
    "# Grafiği gösterin\n",
    "plt.show()"
   ]
  },
  {
   "cell_type": "code",
   "execution_count": 19,
   "id": "860527bb",
   "metadata": {},
   "outputs": [
    {
     "data": {
      "text/plain": [
       "TypeName\n",
       "Notebook              727\n",
       "Gaming                205\n",
       "Ultrabook             196\n",
       "2 in 1 Convertible    121\n",
       "Workstation            29\n",
       "Netbook                25\n",
       "Name: count, dtype: int64"
      ]
     },
     "execution_count": 19,
     "metadata": {},
     "output_type": "execute_result"
    }
   ],
   "source": [
    "df['TypeName'].value_counts()"
   ]
  },
  {
   "cell_type": "code",
   "execution_count": 20,
   "id": "8d25288e",
   "metadata": {},
   "outputs": [
    {
     "data": {
      "text/plain": [
       "0               IPS Panel Retina Display 2560x1600\n",
       "1                                         1440x900\n",
       "2                                Full HD 1920x1080\n",
       "3               IPS Panel Retina Display 2880x1800\n",
       "4               IPS Panel Retina Display 2560x1600\n",
       "                           ...                    \n",
       "1298     IPS Panel Full HD / Touchscreen 1920x1080\n",
       "1299    IPS Panel Quad HD+ / Touchscreen 3200x1800\n",
       "1300                                      1366x768\n",
       "1301                                      1366x768\n",
       "1302                                      1366x768\n",
       "Name: ScreenResolution, Length: 1303, dtype: object"
      ]
     },
     "execution_count": 20,
     "metadata": {},
     "output_type": "execute_result"
    }
   ],
   "source": [
    "df['ScreenResolution']"
   ]
  },
  {
   "cell_type": "code",
   "execution_count": 21,
   "id": "afd0552c",
   "metadata": {},
   "outputs": [
    {
     "data": {
      "text/plain": [
       "ScreenResolution\n",
       "Full HD 1920x1080                                507\n",
       "1366x768                                         281\n",
       "IPS Panel Full HD 1920x1080                      230\n",
       "IPS Panel Full HD / Touchscreen 1920x1080         53\n",
       "Full HD / Touchscreen 1920x1080                   47\n",
       "1600x900                                          23\n",
       "Touchscreen 1366x768                              16\n",
       "Quad HD+ / Touchscreen 3200x1800                  15\n",
       "IPS Panel 4K Ultra HD 3840x2160                   12\n",
       "IPS Panel 4K Ultra HD / Touchscreen 3840x2160     11\n",
       "4K Ultra HD / Touchscreen 3840x2160               10\n",
       "4K Ultra HD 3840x2160                              7\n",
       "Touchscreen 2560x1440                              7\n",
       "IPS Panel 1366x768                                 7\n",
       "IPS Panel Quad HD+ / Touchscreen 3200x1800         6\n",
       "IPS Panel Retina Display 2560x1600                 6\n",
       "IPS Panel Retina Display 2304x1440                 6\n",
       "Touchscreen 2256x1504                              6\n",
       "IPS Panel Touchscreen 2560x1440                    5\n",
       "IPS Panel Retina Display 2880x1800                 4\n",
       "IPS Panel Touchscreen 1920x1200                    4\n",
       "1440x900                                           4\n",
       "IPS Panel 2560x1440                                4\n",
       "IPS Panel Quad HD+ 2560x1440                       3\n",
       "Quad HD+ 3200x1800                                 3\n",
       "1920x1080                                          3\n",
       "Touchscreen 2400x1600                              3\n",
       "2560x1440                                          3\n",
       "IPS Panel Touchscreen 1366x768                     3\n",
       "IPS Panel Touchscreen / 4K Ultra HD 3840x2160      2\n",
       "IPS Panel Full HD 2160x1440                        2\n",
       "IPS Panel Quad HD+ 3200x1800                       2\n",
       "IPS Panel Retina Display 2736x1824                 1\n",
       "IPS Panel Full HD 1920x1200                        1\n",
       "IPS Panel Full HD 2560x1440                        1\n",
       "IPS Panel Full HD 1366x768                         1\n",
       "Touchscreen / Full HD 1920x1080                    1\n",
       "Touchscreen / Quad HD+ 3200x1800                   1\n",
       "Touchscreen / 4K Ultra HD 3840x2160                1\n",
       "IPS Panel Touchscreen 2400x1600                    1\n",
       "Name: count, dtype: int64"
      ]
     },
     "execution_count": 21,
     "metadata": {},
     "output_type": "execute_result"
    }
   ],
   "source": [
    "df['ScreenResolution'].value_counts()"
   ]
  },
  {
   "cell_type": "code",
   "execution_count": 22,
   "id": "f4a23595",
   "metadata": {},
   "outputs": [],
   "source": [
    "import re"
   ]
  },
  {
   "cell_type": "code",
   "execution_count": 23,
   "id": "ec13b11c",
   "metadata": {},
   "outputs": [],
   "source": [
    "import pandas as pd\n",
    "import numpy as np"
   ]
  },
  {
   "cell_type": "code",
   "execution_count": 24,
   "id": "ff8204da",
   "metadata": {},
   "outputs": [],
   "source": [
    "#### KOLONLARI YAZI TİPİNDEN SAYI TİPİNE ÇEVİRİYORUZ."
   ]
  },
  {
   "cell_type": "code",
   "execution_count": 25,
   "id": "a339ff40",
   "metadata": {},
   "outputs": [],
   "source": [
    "df['Weight'] =df['Weight'].str.extract(r'(\\d+(?:\\.\\d+)?)', expand=False).astype(float)"
   ]
  },
  {
   "cell_type": "code",
   "execution_count": 26,
   "id": "44e5fb5d",
   "metadata": {},
   "outputs": [],
   "source": [
    "df['Ram'] =df['Ram'].str.extract(r'(\\d+(?:\\.\\d+)?)', expand=False).astype(int)"
   ]
  },
  {
   "cell_type": "code",
   "execution_count": 27,
   "id": "8de7f974",
   "metadata": {},
   "outputs": [],
   "source": [
    "df['Memory'] =df['Memory'].str.extract(r'(\\d+(?:\\.\\d+)?)', expand=False).astype(float)"
   ]
  },
  {
   "cell_type": "code",
   "execution_count": null,
   "id": "8e0f67bb",
   "metadata": {},
   "outputs": [],
   "source": []
  },
  {
   "cell_type": "code",
   "execution_count": 29,
   "id": "b8be6d3e",
   "metadata": {},
   "outputs": [
    {
     "data": {
      "text/html": [
       "<div>\n",
       "<style scoped>\n",
       "    .dataframe tbody tr th:only-of-type {\n",
       "        vertical-align: middle;\n",
       "    }\n",
       "\n",
       "    .dataframe tbody tr th {\n",
       "        vertical-align: top;\n",
       "    }\n",
       "\n",
       "    .dataframe thead th {\n",
       "        text-align: right;\n",
       "    }\n",
       "</style>\n",
       "<table border=\"1\" class=\"dataframe\">\n",
       "  <thead>\n",
       "    <tr style=\"text-align: right;\">\n",
       "      <th></th>\n",
       "      <th>Unnamed: 0</th>\n",
       "      <th>Inches</th>\n",
       "      <th>Ram</th>\n",
       "      <th>Memory</th>\n",
       "      <th>Weight</th>\n",
       "      <th>Price</th>\n",
       "    </tr>\n",
       "  </thead>\n",
       "  <tbody>\n",
       "    <tr>\n",
       "      <th>count</th>\n",
       "      <td>1303.00000</td>\n",
       "      <td>1303.000000</td>\n",
       "      <td>1303.000000</td>\n",
       "      <td>1303.000000</td>\n",
       "      <td>1303.000000</td>\n",
       "      <td>1303.000000</td>\n",
       "    </tr>\n",
       "    <tr>\n",
       "      <th>mean</th>\n",
       "      <td>651.00000</td>\n",
       "      <td>15.017191</td>\n",
       "      <td>8.382195</td>\n",
       "      <td>226.408289</td>\n",
       "      <td>2.038734</td>\n",
       "      <td>59870.042910</td>\n",
       "    </tr>\n",
       "    <tr>\n",
       "      <th>std</th>\n",
       "      <td>376.28801</td>\n",
       "      <td>1.426304</td>\n",
       "      <td>5.084665</td>\n",
       "      <td>174.609551</td>\n",
       "      <td>0.665475</td>\n",
       "      <td>37243.201786</td>\n",
       "    </tr>\n",
       "    <tr>\n",
       "      <th>min</th>\n",
       "      <td>0.00000</td>\n",
       "      <td>10.100000</td>\n",
       "      <td>2.000000</td>\n",
       "      <td>1.000000</td>\n",
       "      <td>0.690000</td>\n",
       "      <td>9270.720000</td>\n",
       "    </tr>\n",
       "    <tr>\n",
       "      <th>25%</th>\n",
       "      <td>325.50000</td>\n",
       "      <td>14.000000</td>\n",
       "      <td>4.000000</td>\n",
       "      <td>64.000000</td>\n",
       "      <td>1.500000</td>\n",
       "      <td>31914.720000</td>\n",
       "    </tr>\n",
       "    <tr>\n",
       "      <th>50%</th>\n",
       "      <td>651.00000</td>\n",
       "      <td>15.600000</td>\n",
       "      <td>8.000000</td>\n",
       "      <td>256.000000</td>\n",
       "      <td>2.040000</td>\n",
       "      <td>52054.560000</td>\n",
       "    </tr>\n",
       "    <tr>\n",
       "      <th>75%</th>\n",
       "      <td>976.50000</td>\n",
       "      <td>15.600000</td>\n",
       "      <td>8.000000</td>\n",
       "      <td>256.000000</td>\n",
       "      <td>2.300000</td>\n",
       "      <td>79274.246400</td>\n",
       "    </tr>\n",
       "    <tr>\n",
       "      <th>max</th>\n",
       "      <td>1302.00000</td>\n",
       "      <td>18.400000</td>\n",
       "      <td>64.000000</td>\n",
       "      <td>512.000000</td>\n",
       "      <td>4.700000</td>\n",
       "      <td>324954.720000</td>\n",
       "    </tr>\n",
       "  </tbody>\n",
       "</table>\n",
       "</div>"
      ],
      "text/plain": [
       "       Unnamed: 0       Inches          Ram       Memory       Weight  \\\n",
       "count  1303.00000  1303.000000  1303.000000  1303.000000  1303.000000   \n",
       "mean    651.00000    15.017191     8.382195   226.408289     2.038734   \n",
       "std     376.28801     1.426304     5.084665   174.609551     0.665475   \n",
       "min       0.00000    10.100000     2.000000     1.000000     0.690000   \n",
       "25%     325.50000    14.000000     4.000000    64.000000     1.500000   \n",
       "50%     651.00000    15.600000     8.000000   256.000000     2.040000   \n",
       "75%     976.50000    15.600000     8.000000   256.000000     2.300000   \n",
       "max    1302.00000    18.400000    64.000000   512.000000     4.700000   \n",
       "\n",
       "               Price  \n",
       "count    1303.000000  \n",
       "mean    59870.042910  \n",
       "std     37243.201786  \n",
       "min      9270.720000  \n",
       "25%     31914.720000  \n",
       "50%     52054.560000  \n",
       "75%     79274.246400  \n",
       "max    324954.720000  "
      ]
     },
     "execution_count": 29,
     "metadata": {},
     "output_type": "execute_result"
    }
   ],
   "source": [
    "df.describe()"
   ]
  },
  {
   "cell_type": "code",
   "execution_count": 30,
   "id": "c8047a6f",
   "metadata": {},
   "outputs": [
    {
     "data": {
      "text/html": [
       "<div>\n",
       "<style scoped>\n",
       "    .dataframe tbody tr th:only-of-type {\n",
       "        vertical-align: middle;\n",
       "    }\n",
       "\n",
       "    .dataframe tbody tr th {\n",
       "        vertical-align: top;\n",
       "    }\n",
       "\n",
       "    .dataframe thead th {\n",
       "        text-align: right;\n",
       "    }\n",
       "</style>\n",
       "<table border=\"1\" class=\"dataframe\">\n",
       "  <thead>\n",
       "    <tr style=\"text-align: right;\">\n",
       "      <th></th>\n",
       "      <th>Unnamed: 0</th>\n",
       "      <th>Company</th>\n",
       "      <th>TypeName</th>\n",
       "      <th>Inches</th>\n",
       "      <th>ScreenResolution</th>\n",
       "      <th>Cpu</th>\n",
       "      <th>Ram</th>\n",
       "      <th>Memory</th>\n",
       "      <th>Gpu</th>\n",
       "      <th>OpSys</th>\n",
       "      <th>Weight</th>\n",
       "      <th>Price</th>\n",
       "    </tr>\n",
       "  </thead>\n",
       "  <tbody>\n",
       "    <tr>\n",
       "      <th>0</th>\n",
       "      <td>0</td>\n",
       "      <td>Apple</td>\n",
       "      <td>Ultrabook</td>\n",
       "      <td>13.3</td>\n",
       "      <td>IPS Panel Retina Display 2560x1600</td>\n",
       "      <td>Intel Core i5 2.3GHz</td>\n",
       "      <td>8</td>\n",
       "      <td>128.0</td>\n",
       "      <td>Intel Iris Plus Graphics 640</td>\n",
       "      <td>macOS</td>\n",
       "      <td>1.37</td>\n",
       "      <td>71378.6832</td>\n",
       "    </tr>\n",
       "    <tr>\n",
       "      <th>1</th>\n",
       "      <td>1</td>\n",
       "      <td>Apple</td>\n",
       "      <td>Ultrabook</td>\n",
       "      <td>13.3</td>\n",
       "      <td>1440x900</td>\n",
       "      <td>Intel Core i5 1.8GHz</td>\n",
       "      <td>8</td>\n",
       "      <td>128.0</td>\n",
       "      <td>Intel HD Graphics 6000</td>\n",
       "      <td>macOS</td>\n",
       "      <td>1.34</td>\n",
       "      <td>47895.5232</td>\n",
       "    </tr>\n",
       "    <tr>\n",
       "      <th>2</th>\n",
       "      <td>2</td>\n",
       "      <td>HP</td>\n",
       "      <td>Notebook</td>\n",
       "      <td>15.6</td>\n",
       "      <td>Full HD 1920x1080</td>\n",
       "      <td>Intel Core i5 7200U 2.5GHz</td>\n",
       "      <td>8</td>\n",
       "      <td>256.0</td>\n",
       "      <td>Intel HD Graphics 620</td>\n",
       "      <td>No OS</td>\n",
       "      <td>1.86</td>\n",
       "      <td>30636.0000</td>\n",
       "    </tr>\n",
       "  </tbody>\n",
       "</table>\n",
       "</div>"
      ],
      "text/plain": [
       "   Unnamed: 0 Company   TypeName  Inches                    ScreenResolution  \\\n",
       "0           0   Apple  Ultrabook    13.3  IPS Panel Retina Display 2560x1600   \n",
       "1           1   Apple  Ultrabook    13.3                            1440x900   \n",
       "2           2      HP   Notebook    15.6                   Full HD 1920x1080   \n",
       "\n",
       "                          Cpu  Ram  Memory                           Gpu  \\\n",
       "0        Intel Core i5 2.3GHz    8   128.0  Intel Iris Plus Graphics 640   \n",
       "1        Intel Core i5 1.8GHz    8   128.0        Intel HD Graphics 6000   \n",
       "2  Intel Core i5 7200U 2.5GHz    8   256.0         Intel HD Graphics 620   \n",
       "\n",
       "   OpSys  Weight       Price  \n",
       "0  macOS    1.37  71378.6832  \n",
       "1  macOS    1.34  47895.5232  \n",
       "2  No OS    1.86  30636.0000  "
      ]
     },
     "execution_count": 30,
     "metadata": {},
     "output_type": "execute_result"
    }
   ],
   "source": [
    "df.head(3)\n"
   ]
  },
  {
   "cell_type": "code",
   "execution_count": 31,
   "id": "fca5f4a2",
   "metadata": {},
   "outputs": [
    {
     "data": {
      "text/plain": [
       "Cpu\n",
       "Intel Core i5 7200U 2.5GHz       190\n",
       "Intel Core i7 7700HQ 2.8GHz      146\n",
       "Intel Core i7 7500U 2.7GHz       134\n",
       "Intel Core i7 8550U 1.8GHz        73\n",
       "Intel Core i5 8250U 1.6GHz        72\n",
       "                                ... \n",
       "Intel Core M M3-6Y30 0.9GHz        1\n",
       "AMD A9-Series 9420 2.9GHz          1\n",
       "Intel Core i3 6006U 2.2GHz         1\n",
       "AMD A6-Series 7310 2GHz            1\n",
       "Intel Xeon E3-1535M v6 3.1GHz      1\n",
       "Name: count, Length: 118, dtype: int64"
      ]
     },
     "execution_count": 31,
     "metadata": {},
     "output_type": "execute_result"
    }
   ],
   "source": [
    "df['Cpu'].value_counts()"
   ]
  },
  {
   "cell_type": "code",
   "execution_count": 32,
   "id": "32b3c870",
   "metadata": {},
   "outputs": [
    {
     "data": {
      "text/plain": [
       "(1303, 12)"
      ]
     },
     "execution_count": 32,
     "metadata": {},
     "output_type": "execute_result"
    }
   ],
   "source": [
    "df.shape"
   ]
  },
  {
   "cell_type": "code",
   "execution_count": 33,
   "id": "d368e9e9",
   "metadata": {},
   "outputs": [
    {
     "name": "stdout",
     "output_type": "stream",
     "text": [
      "<class 'pandas.core.frame.DataFrame'>\n",
      "RangeIndex: 1303 entries, 0 to 1302\n",
      "Data columns (total 12 columns):\n",
      " #   Column            Non-Null Count  Dtype  \n",
      "---  ------            --------------  -----  \n",
      " 0   Unnamed: 0        1303 non-null   int64  \n",
      " 1   Company           1303 non-null   object \n",
      " 2   TypeName          1303 non-null   object \n",
      " 3   Inches            1303 non-null   float64\n",
      " 4   ScreenResolution  1303 non-null   object \n",
      " 5   Cpu               1303 non-null   object \n",
      " 6   Ram               1303 non-null   int32  \n",
      " 7   Memory            1303 non-null   float64\n",
      " 8   Gpu               1303 non-null   object \n",
      " 9   OpSys             1303 non-null   object \n",
      " 10  Weight            1303 non-null   float64\n",
      " 11  Price             1303 non-null   float64\n",
      "dtypes: float64(4), int32(1), int64(1), object(6)\n",
      "memory usage: 117.2+ KB\n"
     ]
    }
   ],
   "source": [
    "df.info()"
   ]
  },
  {
   "cell_type": "code",
   "execution_count": 34,
   "id": "95e5d565",
   "metadata": {},
   "outputs": [],
   "source": [
    "df.drop(columns=[\"Unnamed: 0\"], inplace=True) ###BU KOLON GEREKSİZ ODUĞU İÇİN KALDIRIYORUZ\n"
   ]
  },
  {
   "cell_type": "code",
   "execution_count": 35,
   "id": "301dd732",
   "metadata": {},
   "outputs": [
    {
     "data": {
      "text/plain": [
       "ScreenResolution\n",
       "Full HD 1920x1080                                507\n",
       "1366x768                                         281\n",
       "IPS Panel Full HD 1920x1080                      230\n",
       "IPS Panel Full HD / Touchscreen 1920x1080         53\n",
       "Full HD / Touchscreen 1920x1080                   47\n",
       "1600x900                                          23\n",
       "Touchscreen 1366x768                              16\n",
       "Quad HD+ / Touchscreen 3200x1800                  15\n",
       "IPS Panel 4K Ultra HD 3840x2160                   12\n",
       "IPS Panel 4K Ultra HD / Touchscreen 3840x2160     11\n",
       "4K Ultra HD / Touchscreen 3840x2160               10\n",
       "4K Ultra HD 3840x2160                              7\n",
       "Touchscreen 2560x1440                              7\n",
       "IPS Panel 1366x768                                 7\n",
       "IPS Panel Quad HD+ / Touchscreen 3200x1800         6\n",
       "IPS Panel Retina Display 2560x1600                 6\n",
       "IPS Panel Retina Display 2304x1440                 6\n",
       "Touchscreen 2256x1504                              6\n",
       "IPS Panel Touchscreen 2560x1440                    5\n",
       "IPS Panel Retina Display 2880x1800                 4\n",
       "IPS Panel Touchscreen 1920x1200                    4\n",
       "1440x900                                           4\n",
       "IPS Panel 2560x1440                                4\n",
       "IPS Panel Quad HD+ 2560x1440                       3\n",
       "Quad HD+ 3200x1800                                 3\n",
       "1920x1080                                          3\n",
       "Touchscreen 2400x1600                              3\n",
       "2560x1440                                          3\n",
       "IPS Panel Touchscreen 1366x768                     3\n",
       "IPS Panel Touchscreen / 4K Ultra HD 3840x2160      2\n",
       "IPS Panel Full HD 2160x1440                        2\n",
       "IPS Panel Quad HD+ 3200x1800                       2\n",
       "IPS Panel Retina Display 2736x1824                 1\n",
       "IPS Panel Full HD 1920x1200                        1\n",
       "IPS Panel Full HD 2560x1440                        1\n",
       "IPS Panel Full HD 1366x768                         1\n",
       "Touchscreen / Full HD 1920x1080                    1\n",
       "Touchscreen / Quad HD+ 3200x1800                   1\n",
       "Touchscreen / 4K Ultra HD 3840x2160                1\n",
       "IPS Panel Touchscreen 2400x1600                    1\n",
       "Name: count, dtype: int64"
      ]
     },
     "execution_count": 35,
     "metadata": {},
     "output_type": "execute_result"
    }
   ],
   "source": [
    "df['ScreenResolution'].value_counts()"
   ]
  },
  {
   "cell_type": "code",
   "execution_count": 36,
   "id": "710e827d",
   "metadata": {},
   "outputs": [],
   "source": [
    "# DOKUNMATİK EKRAN SEÇENEĞİNE GÖRE AYIRIYORUZ.\n",
    "df['Touchscreen'] = df['ScreenResolution'].apply(lambda x:1 if 'Touchscreen' in x else 0)"
   ]
  },
  {
   "cell_type": "code",
   "execution_count": 37,
   "id": "a1b393c1",
   "metadata": {},
   "outputs": [
    {
     "data": {
      "text/html": [
       "<div>\n",
       "<style scoped>\n",
       "    .dataframe tbody tr th:only-of-type {\n",
       "        vertical-align: middle;\n",
       "    }\n",
       "\n",
       "    .dataframe tbody tr th {\n",
       "        vertical-align: top;\n",
       "    }\n",
       "\n",
       "    .dataframe thead th {\n",
       "        text-align: right;\n",
       "    }\n",
       "</style>\n",
       "<table border=\"1\" class=\"dataframe\">\n",
       "  <thead>\n",
       "    <tr style=\"text-align: right;\">\n",
       "      <th></th>\n",
       "      <th>Company</th>\n",
       "      <th>TypeName</th>\n",
       "      <th>Inches</th>\n",
       "      <th>ScreenResolution</th>\n",
       "      <th>Cpu</th>\n",
       "      <th>Ram</th>\n",
       "      <th>Memory</th>\n",
       "      <th>Gpu</th>\n",
       "      <th>OpSys</th>\n",
       "      <th>Weight</th>\n",
       "      <th>Price</th>\n",
       "      <th>Touchscreen</th>\n",
       "    </tr>\n",
       "  </thead>\n",
       "  <tbody>\n",
       "    <tr>\n",
       "      <th>0</th>\n",
       "      <td>Apple</td>\n",
       "      <td>Ultrabook</td>\n",
       "      <td>13.3</td>\n",
       "      <td>IPS Panel Retina Display 2560x1600</td>\n",
       "      <td>Intel Core i5 2.3GHz</td>\n",
       "      <td>8</td>\n",
       "      <td>128.0</td>\n",
       "      <td>Intel Iris Plus Graphics 640</td>\n",
       "      <td>macOS</td>\n",
       "      <td>1.37</td>\n",
       "      <td>71378.6832</td>\n",
       "      <td>0</td>\n",
       "    </tr>\n",
       "    <tr>\n",
       "      <th>1</th>\n",
       "      <td>Apple</td>\n",
       "      <td>Ultrabook</td>\n",
       "      <td>13.3</td>\n",
       "      <td>1440x900</td>\n",
       "      <td>Intel Core i5 1.8GHz</td>\n",
       "      <td>8</td>\n",
       "      <td>128.0</td>\n",
       "      <td>Intel HD Graphics 6000</td>\n",
       "      <td>macOS</td>\n",
       "      <td>1.34</td>\n",
       "      <td>47895.5232</td>\n",
       "      <td>0</td>\n",
       "    </tr>\n",
       "    <tr>\n",
       "      <th>2</th>\n",
       "      <td>HP</td>\n",
       "      <td>Notebook</td>\n",
       "      <td>15.6</td>\n",
       "      <td>Full HD 1920x1080</td>\n",
       "      <td>Intel Core i5 7200U 2.5GHz</td>\n",
       "      <td>8</td>\n",
       "      <td>256.0</td>\n",
       "      <td>Intel HD Graphics 620</td>\n",
       "      <td>No OS</td>\n",
       "      <td>1.86</td>\n",
       "      <td>30636.0000</td>\n",
       "      <td>0</td>\n",
       "    </tr>\n",
       "    <tr>\n",
       "      <th>3</th>\n",
       "      <td>Apple</td>\n",
       "      <td>Ultrabook</td>\n",
       "      <td>15.4</td>\n",
       "      <td>IPS Panel Retina Display 2880x1800</td>\n",
       "      <td>Intel Core i7 2.7GHz</td>\n",
       "      <td>16</td>\n",
       "      <td>512.0</td>\n",
       "      <td>AMD Radeon Pro 455</td>\n",
       "      <td>macOS</td>\n",
       "      <td>1.83</td>\n",
       "      <td>135195.3360</td>\n",
       "      <td>0</td>\n",
       "    </tr>\n",
       "    <tr>\n",
       "      <th>4</th>\n",
       "      <td>Apple</td>\n",
       "      <td>Ultrabook</td>\n",
       "      <td>13.3</td>\n",
       "      <td>IPS Panel Retina Display 2560x1600</td>\n",
       "      <td>Intel Core i5 3.1GHz</td>\n",
       "      <td>8</td>\n",
       "      <td>256.0</td>\n",
       "      <td>Intel Iris Plus Graphics 650</td>\n",
       "      <td>macOS</td>\n",
       "      <td>1.37</td>\n",
       "      <td>96095.8080</td>\n",
       "      <td>0</td>\n",
       "    </tr>\n",
       "  </tbody>\n",
       "</table>\n",
       "</div>"
      ],
      "text/plain": [
       "  Company   TypeName  Inches                    ScreenResolution  \\\n",
       "0   Apple  Ultrabook    13.3  IPS Panel Retina Display 2560x1600   \n",
       "1   Apple  Ultrabook    13.3                            1440x900   \n",
       "2      HP   Notebook    15.6                   Full HD 1920x1080   \n",
       "3   Apple  Ultrabook    15.4  IPS Panel Retina Display 2880x1800   \n",
       "4   Apple  Ultrabook    13.3  IPS Panel Retina Display 2560x1600   \n",
       "\n",
       "                          Cpu  Ram  Memory                           Gpu  \\\n",
       "0        Intel Core i5 2.3GHz    8   128.0  Intel Iris Plus Graphics 640   \n",
       "1        Intel Core i5 1.8GHz    8   128.0        Intel HD Graphics 6000   \n",
       "2  Intel Core i5 7200U 2.5GHz    8   256.0         Intel HD Graphics 620   \n",
       "3        Intel Core i7 2.7GHz   16   512.0            AMD Radeon Pro 455   \n",
       "4        Intel Core i5 3.1GHz    8   256.0  Intel Iris Plus Graphics 650   \n",
       "\n",
       "   OpSys  Weight        Price  Touchscreen  \n",
       "0  macOS    1.37   71378.6832            0  \n",
       "1  macOS    1.34   47895.5232            0  \n",
       "2  No OS    1.86   30636.0000            0  \n",
       "3  macOS    1.83  135195.3360            0  \n",
       "4  macOS    1.37   96095.8080            0  "
      ]
     },
     "execution_count": 37,
     "metadata": {},
     "output_type": "execute_result"
    }
   ],
   "source": [
    "df.head()"
   ]
  },
  {
   "cell_type": "code",
   "execution_count": 38,
   "id": "2c2d4fe5",
   "metadata": {},
   "outputs": [
    {
     "data": {
      "text/html": [
       "<div>\n",
       "<style scoped>\n",
       "    .dataframe tbody tr th:only-of-type {\n",
       "        vertical-align: middle;\n",
       "    }\n",
       "\n",
       "    .dataframe tbody tr th {\n",
       "        vertical-align: top;\n",
       "    }\n",
       "\n",
       "    .dataframe thead th {\n",
       "        text-align: right;\n",
       "    }\n",
       "</style>\n",
       "<table border=\"1\" class=\"dataframe\">\n",
       "  <thead>\n",
       "    <tr style=\"text-align: right;\">\n",
       "      <th></th>\n",
       "      <th>Inches</th>\n",
       "      <th>Ram</th>\n",
       "      <th>Memory</th>\n",
       "      <th>Weight</th>\n",
       "      <th>Price</th>\n",
       "      <th>Touchscreen</th>\n",
       "    </tr>\n",
       "  </thead>\n",
       "  <tbody>\n",
       "    <tr>\n",
       "      <th>Inches</th>\n",
       "      <td>1.000000</td>\n",
       "      <td>0.237993</td>\n",
       "      <td>-0.098539</td>\n",
       "      <td>0.827631</td>\n",
       "      <td>0.068197</td>\n",
       "      <td>-0.361735</td>\n",
       "    </tr>\n",
       "    <tr>\n",
       "      <th>Ram</th>\n",
       "      <td>0.237993</td>\n",
       "      <td>1.000000</td>\n",
       "      <td>0.184002</td>\n",
       "      <td>0.383874</td>\n",
       "      <td>0.743007</td>\n",
       "      <td>0.116984</td>\n",
       "    </tr>\n",
       "    <tr>\n",
       "      <th>Memory</th>\n",
       "      <td>-0.098539</td>\n",
       "      <td>0.184002</td>\n",
       "      <td>1.000000</td>\n",
       "      <td>-0.105692</td>\n",
       "      <td>0.298177</td>\n",
       "      <td>0.092424</td>\n",
       "    </tr>\n",
       "    <tr>\n",
       "      <th>Weight</th>\n",
       "      <td>0.827631</td>\n",
       "      <td>0.383874</td>\n",
       "      <td>-0.105692</td>\n",
       "      <td>1.000000</td>\n",
       "      <td>0.210370</td>\n",
       "      <td>-0.294620</td>\n",
       "    </tr>\n",
       "    <tr>\n",
       "      <th>Price</th>\n",
       "      <td>0.068197</td>\n",
       "      <td>0.743007</td>\n",
       "      <td>0.298177</td>\n",
       "      <td>0.210370</td>\n",
       "      <td>1.000000</td>\n",
       "      <td>0.191226</td>\n",
       "    </tr>\n",
       "    <tr>\n",
       "      <th>Touchscreen</th>\n",
       "      <td>-0.361735</td>\n",
       "      <td>0.116984</td>\n",
       "      <td>0.092424</td>\n",
       "      <td>-0.294620</td>\n",
       "      <td>0.191226</td>\n",
       "      <td>1.000000</td>\n",
       "    </tr>\n",
       "  </tbody>\n",
       "</table>\n",
       "</div>"
      ],
      "text/plain": [
       "               Inches       Ram    Memory    Weight     Price  Touchscreen\n",
       "Inches       1.000000  0.237993 -0.098539  0.827631  0.068197    -0.361735\n",
       "Ram          0.237993  1.000000  0.184002  0.383874  0.743007     0.116984\n",
       "Memory      -0.098539  0.184002  1.000000 -0.105692  0.298177     0.092424\n",
       "Weight       0.827631  0.383874 -0.105692  1.000000  0.210370    -0.294620\n",
       "Price        0.068197  0.743007  0.298177  0.210370  1.000000     0.191226\n",
       "Touchscreen -0.361735  0.116984  0.092424 -0.294620  0.191226     1.000000"
      ]
     },
     "execution_count": 38,
     "metadata": {},
     "output_type": "execute_result"
    }
   ],
   "source": [
    "df.corr(numeric_only=True)"
   ]
  },
  {
   "cell_type": "code",
   "execution_count": 39,
   "id": "cf756ab4",
   "metadata": {},
   "outputs": [
    {
     "data": {
      "text/plain": [
       "<Axes: xlabel='Touchscreen'>"
      ]
     },
     "execution_count": 39,
     "metadata": {},
     "output_type": "execute_result"
    },
    {
     "data": {
      "image/png": "[encoded data removed]",
      "text/plain": [
       "<Figure size 640x480 with 1 Axes>"
      ]
     },
     "metadata": {},
     "output_type": "display_data"
    }
   ],
   "source": [
    "\n",
    "df['Touchscreen'].value_counts().plot(kind='bar')"
   ]
  },
  {
   "cell_type": "code",
   "execution_count": 40,
   "id": "6d70bb41",
   "metadata": {},
   "outputs": [
    {
     "data": {
      "image/png": "[encoded data removed]",
      "text/plain": [
       "<Figure size 640x480 with 1 Axes>"
      ]
     },
     "metadata": {},
     "output_type": "display_data"
    }
   ],
   "source": [
    "sns.barplot(x=df['ScreenResolution'], y=df['Price'])\n",
    "plt.xticks(rotation='vertical')\n",
    "plt.show()"
   ]
  },
  {
   "cell_type": "code",
   "execution_count": 41,
   "id": "db4fe261",
   "metadata": {},
   "outputs": [],
   "source": [
    "## https://github.com/ajinkode/Laptop-Price-Predictor/blob/main/Laptop%20Price%20Predictor.ipynb <<<ADRSİNDEN YARDIM ALARAK AŞAĞIDAKİ DÖNÜŞÜMÜ YAPTIM."
   ]
  },
  {
   "cell_type": "code",
   "execution_count": 42,
   "id": "3e97196f",
   "metadata": {},
   "outputs": [],
   "source": [
    "# Let's create a new column called 'IPS' indicating whether a laptop has IPS Panel or not\n",
    "df['IPS'] = df['ScreenResolution'].apply(lambda x:1 if 'IPS Panel' in x else 0)"
   ]
  },
  {
   "cell_type": "code",
   "execution_count": 43,
   "id": "eb959295",
   "metadata": {},
   "outputs": [],
   "source": [
    "# Let's create a variable which splits the 'Screen Resolution' column with 'x' as delimiter\n",
    "new = df['ScreenResolution'].str.split('x',n=1,expand=True)"
   ]
  },
  {
   "cell_type": "code",
   "execution_count": 44,
   "id": "2fc5e655",
   "metadata": {},
   "outputs": [],
   "source": [
    "# Let's create two new columns X_res and Y_res to store the x and y resolutions of the screen\n",
    "df['X_res'] = new[0]\n",
    "df['Y_res'] = new[1]"
   ]
  },
  {
   "cell_type": "code",
   "execution_count": 45,
   "id": "e32da3dd",
   "metadata": {},
   "outputs": [],
   "source": [
    "# Since X_res has unnecessary data let's remove that and only keep the X_res value\n",
    "df['X_res'] = df['X_res'].str.replace(',','').str.findall(r'(\\d+\\.?\\d+)').apply(lambda x: x[0])"
   ]
  },
  {
   "cell_type": "code",
   "execution_count": 46,
   "id": "58c5f3c6",
   "metadata": {},
   "outputs": [],
   "source": [
    "# Convert X_res and Y_res datatype from sting to int\n",
    "df['X_res'] = df['X_res'].astype('int')\n",
    "df['Y_res'] = df['Y_res'].astype('int')"
   ]
  },
  {
   "cell_type": "code",
   "execution_count": 47,
   "id": "c7b0d66d",
   "metadata": {},
   "outputs": [
    {
     "name": "stdout",
     "output_type": "stream",
     "text": [
      "<class 'pandas.core.frame.DataFrame'>\n",
      "RangeIndex: 1303 entries, 0 to 1302\n",
      "Data columns (total 15 columns):\n",
      " #   Column            Non-Null Count  Dtype  \n",
      "---  ------            --------------  -----  \n",
      " 0   Company           1303 non-null   object \n",
      " 1   TypeName          1303 non-null   object \n",
      " 2   Inches            1303 non-null   float64\n",
      " 3   ScreenResolution  1303 non-null   object \n",
      " 4   Cpu               1303 non-null   object \n",
      " 5   Ram               1303 non-null   int32  \n",
      " 6   Memory            1303 non-null   float64\n",
      " 7   Gpu               1303 non-null   object \n",
      " 8   OpSys             1303 non-null   object \n",
      " 9   Weight            1303 non-null   float64\n",
      " 10  Price             1303 non-null   float64\n",
      " 11  Touchscreen       1303 non-null   int64  \n",
      " 12  IPS               1303 non-null   int64  \n",
      " 13  X_res             1303 non-null   int32  \n",
      " 14  Y_res             1303 non-null   int32  \n",
      "dtypes: float64(4), int32(3), int64(2), object(6)\n",
      "memory usage: 137.6+ KB\n"
     ]
    }
   ],
   "source": [
    "df.info()"
   ]
  },
  {
   "cell_type": "code",
   "execution_count": null,
   "id": "2b0eff20",
   "metadata": {},
   "outputs": [],
   "source": []
  },
  {
   "cell_type": "code",
   "execution_count": 48,
   "id": "ce008706",
   "metadata": {},
   "outputs": [
    {
     "data": {
      "text/plain": [
       "0                         [Intel, Core, i5, 2.3GHz]\n",
       "1                         [Intel, Core, i5, 1.8GHz]\n",
       "2                  [Intel, Core, i5, 7200U, 2.5GHz]\n",
       "3                         [Intel, Core, i7, 2.7GHz]\n",
       "4                         [Intel, Core, i5, 3.1GHz]\n",
       "                           ...                     \n",
       "1298               [Intel, Core, i7, 6500U, 2.5GHz]\n",
       "1299               [Intel, Core, i7, 6500U, 2.5GHz]\n",
       "1300    [Intel, Celeron, Dual, Core, N3050, 1.6GHz]\n",
       "1301               [Intel, Core, i7, 6500U, 2.5GHz]\n",
       "1302    [Intel, Celeron, Dual, Core, N3050, 1.6GHz]\n",
       "Name: Cpu, Length: 1303, dtype: object"
      ]
     },
     "execution_count": 48,
     "metadata": {},
     "output_type": "execute_result"
    }
   ],
   "source": [
    "# Let's split the data in Cpu column into words\n",
    "df['Cpu'].apply(lambda x: x.split())"
   ]
  },
  {
   "cell_type": "code",
   "execution_count": 49,
   "id": "d3ebc792",
   "metadata": {},
   "outputs": [],
   "source": [
    "# Let's create a new column CPU Name whoch stores only the first three words of the Cpu column\n",
    "df['CPU Name'] = df['Cpu'].apply(lambda x: \" \".join(x.split()[0:3]))"
   ]
  },
  {
   "cell_type": "code",
   "execution_count": 50,
   "id": "d66f5043",
   "metadata": {},
   "outputs": [],
   "source": [
    "# This function takes a Cpu name as input ans returns the CPU Brand of it\n",
    "\n",
    "def fetch_processor(text):\n",
    "    if text == 'Intel Core i3' or text == 'Intel Core i5' or text == 'Intel Core i7':\n",
    "        return text\n",
    "    else:\n",
    "        if text.split()[0] == 'Intel':\n",
    "            return 'Other Intel Processor'\n",
    "        else:\n",
    "            return 'AMD Processor'\n",
    "            "
   ]
  },
  {
   "cell_type": "code",
   "execution_count": 51,
   "id": "699c1aa2",
   "metadata": {},
   "outputs": [],
   "source": [
    "# Let's create CPU Brand column using the above function\n",
    "df['CPU Brand'] = df['CPU Name'].apply(fetch_processor)"
   ]
  },
  {
   "cell_type": "code",
   "execution_count": 52,
   "id": "f965b6bd",
   "metadata": {},
   "outputs": [
    {
     "data": {
      "text/plain": [
       "<Axes: xlabel='CPU Brand'>"
      ]
     },
     "execution_count": 52,
     "metadata": {},
     "output_type": "execute_result"
    },
    {
     "data": {
      "image/png": "[encoded data removed]",
      "text/plain": [
       "<Figure size 640x480 with 1 Axes>"
      ]
     },
     "metadata": {},
     "output_type": "display_data"
    }
   ],
   "source": [
    "df['CPU Brand'].value_counts().plot(kind='bar')"
   ]
  },
  {
   "cell_type": "code",
   "execution_count": 53,
   "id": "d084035e",
   "metadata": {},
   "outputs": [
    {
     "data": {
      "image/png": "[encoded data removed]",
      "text/plain": [
       "<Figure size 640x480 with 1 Axes>"
      ]
     },
     "metadata": {},
     "output_type": "display_data"
    }
   ],
   "source": [
    "sns.barplot(x=df['CPU Brand'], y=df['Price'])\n",
    "plt.xticks(rotation='vertical')\n",
    "plt.show()"
   ]
  },
  {
   "cell_type": "code",
   "execution_count": 54,
   "id": "b97363c0",
   "metadata": {},
   "outputs": [],
   "source": [
    "df.drop(['Cpu', 'CPU Name'], inplace=True, axis=1)"
   ]
  },
  {
   "cell_type": "code",
   "execution_count": 55,
   "id": "a0d862b8",
   "metadata": {},
   "outputs": [
    {
     "name": "stdout",
     "output_type": "stream",
     "text": [
      "<class 'pandas.core.frame.DataFrame'>\n",
      "RangeIndex: 1303 entries, 0 to 1302\n",
      "Data columns (total 15 columns):\n",
      " #   Column            Non-Null Count  Dtype  \n",
      "---  ------            --------------  -----  \n",
      " 0   Company           1303 non-null   object \n",
      " 1   TypeName          1303 non-null   object \n",
      " 2   Inches            1303 non-null   float64\n",
      " 3   ScreenResolution  1303 non-null   object \n",
      " 4   Ram               1303 non-null   int32  \n",
      " 5   Memory            1303 non-null   float64\n",
      " 6   Gpu               1303 non-null   object \n",
      " 7   OpSys             1303 non-null   object \n",
      " 8   Weight            1303 non-null   float64\n",
      " 9   Price             1303 non-null   float64\n",
      " 10  Touchscreen       1303 non-null   int64  \n",
      " 11  IPS               1303 non-null   int64  \n",
      " 12  X_res             1303 non-null   int32  \n",
      " 13  Y_res             1303 non-null   int32  \n",
      " 14  CPU Brand         1303 non-null   object \n",
      "dtypes: float64(4), int32(3), int64(2), object(6)\n",
      "memory usage: 137.6+ KB\n"
     ]
    }
   ],
   "source": [
    "df.info()"
   ]
  },
  {
   "cell_type": "code",
   "execution_count": 56,
   "id": "622631df",
   "metadata": {},
   "outputs": [
    {
     "data": {
      "text/plain": [
       "<Axes: xlabel='Gpu'>"
      ]
     },
     "execution_count": 56,
     "metadata": {},
     "output_type": "execute_result"
    },
    {
     "data": {
      "image/png": "[encoded data removed]",
      "text/plain": [
       "<Figure size 640x480 with 1 Axes>"
      ]
     },
     "metadata": {},
     "output_type": "display_data"
    }
   ],
   "source": [
    "\n",
    "df['Gpu'].value_counts().plot(kind='bar')"
   ]
  },
  {
   "cell_type": "code",
   "execution_count": 57,
   "id": "99672ee0",
   "metadata": {},
   "outputs": [
    {
     "data": {
      "image/png": "[encoded data removed]",
      "text/plain": [
       "<Figure size 640x480 with 1 Axes>"
      ]
     },
     "metadata": {},
     "output_type": "display_data"
    }
   ],
   "source": [
    "sns.barplot(x=df['Gpu'], y=df['Price'])\n",
    "plt.xticks(rotation='vertical')\n",
    "plt.show()"
   ]
  },
  {
   "cell_type": "code",
   "execution_count": 58,
   "id": "890bc508",
   "metadata": {},
   "outputs": [
    {
     "data": {
      "text/html": [
       "<div>\n",
       "<style scoped>\n",
       "    .dataframe tbody tr th:only-of-type {\n",
       "        vertical-align: middle;\n",
       "    }\n",
       "\n",
       "    .dataframe tbody tr th {\n",
       "        vertical-align: top;\n",
       "    }\n",
       "\n",
       "    .dataframe thead th {\n",
       "        text-align: right;\n",
       "    }\n",
       "</style>\n",
       "<table border=\"1\" class=\"dataframe\">\n",
       "  <thead>\n",
       "    <tr style=\"text-align: right;\">\n",
       "      <th></th>\n",
       "      <th>Company</th>\n",
       "      <th>TypeName</th>\n",
       "      <th>Inches</th>\n",
       "      <th>ScreenResolution</th>\n",
       "      <th>Ram</th>\n",
       "      <th>Memory</th>\n",
       "      <th>Gpu</th>\n",
       "      <th>OpSys</th>\n",
       "      <th>Weight</th>\n",
       "      <th>Price</th>\n",
       "      <th>Touchscreen</th>\n",
       "      <th>IPS</th>\n",
       "      <th>X_res</th>\n",
       "      <th>Y_res</th>\n",
       "      <th>CPU Brand</th>\n",
       "    </tr>\n",
       "  </thead>\n",
       "  <tbody>\n",
       "    <tr>\n",
       "      <th>0</th>\n",
       "      <td>Apple</td>\n",
       "      <td>Ultrabook</td>\n",
       "      <td>13.3</td>\n",
       "      <td>IPS Panel Retina Display 2560x1600</td>\n",
       "      <td>8</td>\n",
       "      <td>128.0</td>\n",
       "      <td>Intel Iris Plus Graphics 640</td>\n",
       "      <td>macOS</td>\n",
       "      <td>1.37</td>\n",
       "      <td>71378.6832</td>\n",
       "      <td>0</td>\n",
       "      <td>1</td>\n",
       "      <td>2560</td>\n",
       "      <td>1600</td>\n",
       "      <td>Intel Core i5</td>\n",
       "    </tr>\n",
       "    <tr>\n",
       "      <th>1</th>\n",
       "      <td>Apple</td>\n",
       "      <td>Ultrabook</td>\n",
       "      <td>13.3</td>\n",
       "      <td>1440x900</td>\n",
       "      <td>8</td>\n",
       "      <td>128.0</td>\n",
       "      <td>Intel HD Graphics 6000</td>\n",
       "      <td>macOS</td>\n",
       "      <td>1.34</td>\n",
       "      <td>47895.5232</td>\n",
       "      <td>0</td>\n",
       "      <td>0</td>\n",
       "      <td>1440</td>\n",
       "      <td>900</td>\n",
       "      <td>Intel Core i5</td>\n",
       "    </tr>\n",
       "    <tr>\n",
       "      <th>2</th>\n",
       "      <td>HP</td>\n",
       "      <td>Notebook</td>\n",
       "      <td>15.6</td>\n",
       "      <td>Full HD 1920x1080</td>\n",
       "      <td>8</td>\n",
       "      <td>256.0</td>\n",
       "      <td>Intel HD Graphics 620</td>\n",
       "      <td>No OS</td>\n",
       "      <td>1.86</td>\n",
       "      <td>30636.0000</td>\n",
       "      <td>0</td>\n",
       "      <td>0</td>\n",
       "      <td>1920</td>\n",
       "      <td>1080</td>\n",
       "      <td>Intel Core i5</td>\n",
       "    </tr>\n",
       "    <tr>\n",
       "      <th>3</th>\n",
       "      <td>Apple</td>\n",
       "      <td>Ultrabook</td>\n",
       "      <td>15.4</td>\n",
       "      <td>IPS Panel Retina Display 2880x1800</td>\n",
       "      <td>16</td>\n",
       "      <td>512.0</td>\n",
       "      <td>AMD Radeon Pro 455</td>\n",
       "      <td>macOS</td>\n",
       "      <td>1.83</td>\n",
       "      <td>135195.3360</td>\n",
       "      <td>0</td>\n",
       "      <td>1</td>\n",
       "      <td>2880</td>\n",
       "      <td>1800</td>\n",
       "      <td>Intel Core i7</td>\n",
       "    </tr>\n",
       "    <tr>\n",
       "      <th>4</th>\n",
       "      <td>Apple</td>\n",
       "      <td>Ultrabook</td>\n",
       "      <td>13.3</td>\n",
       "      <td>IPS Panel Retina Display 2560x1600</td>\n",
       "      <td>8</td>\n",
       "      <td>256.0</td>\n",
       "      <td>Intel Iris Plus Graphics 650</td>\n",
       "      <td>macOS</td>\n",
       "      <td>1.37</td>\n",
       "      <td>96095.8080</td>\n",
       "      <td>0</td>\n",
       "      <td>1</td>\n",
       "      <td>2560</td>\n",
       "      <td>1600</td>\n",
       "      <td>Intel Core i5</td>\n",
       "    </tr>\n",
       "    <tr>\n",
       "      <th>...</th>\n",
       "      <td>...</td>\n",
       "      <td>...</td>\n",
       "      <td>...</td>\n",
       "      <td>...</td>\n",
       "      <td>...</td>\n",
       "      <td>...</td>\n",
       "      <td>...</td>\n",
       "      <td>...</td>\n",
       "      <td>...</td>\n",
       "      <td>...</td>\n",
       "      <td>...</td>\n",
       "      <td>...</td>\n",
       "      <td>...</td>\n",
       "      <td>...</td>\n",
       "      <td>...</td>\n",
       "    </tr>\n",
       "    <tr>\n",
       "      <th>1298</th>\n",
       "      <td>Lenovo</td>\n",
       "      <td>2 in 1 Convertible</td>\n",
       "      <td>14.0</td>\n",
       "      <td>IPS Panel Full HD / Touchscreen 1920x1080</td>\n",
       "      <td>4</td>\n",
       "      <td>128.0</td>\n",
       "      <td>Intel HD Graphics 520</td>\n",
       "      <td>Windows 10</td>\n",
       "      <td>1.80</td>\n",
       "      <td>33992.6400</td>\n",
       "      <td>1</td>\n",
       "      <td>1</td>\n",
       "      <td>1920</td>\n",
       "      <td>1080</td>\n",
       "      <td>Intel Core i7</td>\n",
       "    </tr>\n",
       "    <tr>\n",
       "      <th>1299</th>\n",
       "      <td>Lenovo</td>\n",
       "      <td>2 in 1 Convertible</td>\n",
       "      <td>13.3</td>\n",
       "      <td>IPS Panel Quad HD+ / Touchscreen 3200x1800</td>\n",
       "      <td>16</td>\n",
       "      <td>512.0</td>\n",
       "      <td>Intel HD Graphics 520</td>\n",
       "      <td>Windows 10</td>\n",
       "      <td>1.30</td>\n",
       "      <td>79866.7200</td>\n",
       "      <td>1</td>\n",
       "      <td>1</td>\n",
       "      <td>3200</td>\n",
       "      <td>1800</td>\n",
       "      <td>Intel Core i7</td>\n",
       "    </tr>\n",
       "    <tr>\n",
       "      <th>1300</th>\n",
       "      <td>Lenovo</td>\n",
       "      <td>Notebook</td>\n",
       "      <td>14.0</td>\n",
       "      <td>1366x768</td>\n",
       "      <td>2</td>\n",
       "      <td>64.0</td>\n",
       "      <td>Intel HD Graphics</td>\n",
       "      <td>Windows 10</td>\n",
       "      <td>1.50</td>\n",
       "      <td>12201.1200</td>\n",
       "      <td>0</td>\n",
       "      <td>0</td>\n",
       "      <td>1366</td>\n",
       "      <td>768</td>\n",
       "      <td>Other Intel Processor</td>\n",
       "    </tr>\n",
       "    <tr>\n",
       "      <th>1301</th>\n",
       "      <td>HP</td>\n",
       "      <td>Notebook</td>\n",
       "      <td>15.6</td>\n",
       "      <td>1366x768</td>\n",
       "      <td>6</td>\n",
       "      <td>1.0</td>\n",
       "      <td>AMD Radeon R5 M330</td>\n",
       "      <td>Windows 10</td>\n",
       "      <td>2.19</td>\n",
       "      <td>40705.9200</td>\n",
       "      <td>0</td>\n",
       "      <td>0</td>\n",
       "      <td>1366</td>\n",
       "      <td>768</td>\n",
       "      <td>Intel Core i7</td>\n",
       "    </tr>\n",
       "    <tr>\n",
       "      <th>1302</th>\n",
       "      <td>Asus</td>\n",
       "      <td>Notebook</td>\n",
       "      <td>15.6</td>\n",
       "      <td>1366x768</td>\n",
       "      <td>4</td>\n",
       "      <td>500.0</td>\n",
       "      <td>Intel HD Graphics</td>\n",
       "      <td>Windows 10</td>\n",
       "      <td>2.20</td>\n",
       "      <td>19660.3200</td>\n",
       "      <td>0</td>\n",
       "      <td>0</td>\n",
       "      <td>1366</td>\n",
       "      <td>768</td>\n",
       "      <td>Other Intel Processor</td>\n",
       "    </tr>\n",
       "  </tbody>\n",
       "</table>\n",
       "<p>1303 rows × 15 columns</p>\n",
       "</div>"
      ],
      "text/plain": [
       "     Company            TypeName  Inches  \\\n",
       "0      Apple           Ultrabook    13.3   \n",
       "1      Apple           Ultrabook    13.3   \n",
       "2         HP            Notebook    15.6   \n",
       "3      Apple           Ultrabook    15.4   \n",
       "4      Apple           Ultrabook    13.3   \n",
       "...      ...                 ...     ...   \n",
       "1298  Lenovo  2 in 1 Convertible    14.0   \n",
       "1299  Lenovo  2 in 1 Convertible    13.3   \n",
       "1300  Lenovo            Notebook    14.0   \n",
       "1301      HP            Notebook    15.6   \n",
       "1302    Asus            Notebook    15.6   \n",
       "\n",
       "                                ScreenResolution  Ram  Memory  \\\n",
       "0             IPS Panel Retina Display 2560x1600    8   128.0   \n",
       "1                                       1440x900    8   128.0   \n",
       "2                              Full HD 1920x1080    8   256.0   \n",
       "3             IPS Panel Retina Display 2880x1800   16   512.0   \n",
       "4             IPS Panel Retina Display 2560x1600    8   256.0   \n",
       "...                                          ...  ...     ...   \n",
       "1298   IPS Panel Full HD / Touchscreen 1920x1080    4   128.0   \n",
       "1299  IPS Panel Quad HD+ / Touchscreen 3200x1800   16   512.0   \n",
       "1300                                    1366x768    2    64.0   \n",
       "1301                                    1366x768    6     1.0   \n",
       "1302                                    1366x768    4   500.0   \n",
       "\n",
       "                               Gpu       OpSys  Weight        Price  \\\n",
       "0     Intel Iris Plus Graphics 640       macOS    1.37   71378.6832   \n",
       "1           Intel HD Graphics 6000       macOS    1.34   47895.5232   \n",
       "2            Intel HD Graphics 620       No OS    1.86   30636.0000   \n",
       "3               AMD Radeon Pro 455       macOS    1.83  135195.3360   \n",
       "4     Intel Iris Plus Graphics 650       macOS    1.37   96095.8080   \n",
       "...                            ...         ...     ...          ...   \n",
       "1298         Intel HD Graphics 520  Windows 10    1.80   33992.6400   \n",
       "1299         Intel HD Graphics 520  Windows 10    1.30   79866.7200   \n",
       "1300             Intel HD Graphics  Windows 10    1.50   12201.1200   \n",
       "1301            AMD Radeon R5 M330  Windows 10    2.19   40705.9200   \n",
       "1302             Intel HD Graphics  Windows 10    2.20   19660.3200   \n",
       "\n",
       "      Touchscreen  IPS  X_res  Y_res              CPU Brand  \n",
       "0               0    1   2560   1600          Intel Core i5  \n",
       "1               0    0   1440    900          Intel Core i5  \n",
       "2               0    0   1920   1080          Intel Core i5  \n",
       "3               0    1   2880   1800          Intel Core i7  \n",
       "4               0    1   2560   1600          Intel Core i5  \n",
       "...           ...  ...    ...    ...                    ...  \n",
       "1298            1    1   1920   1080          Intel Core i7  \n",
       "1299            1    1   3200   1800          Intel Core i7  \n",
       "1300            0    0   1366    768  Other Intel Processor  \n",
       "1301            0    0   1366    768          Intel Core i7  \n",
       "1302            0    0   1366    768  Other Intel Processor  \n",
       "\n",
       "[1303 rows x 15 columns]"
      ]
     },
     "execution_count": 58,
     "metadata": {},
     "output_type": "execute_result"
    }
   ],
   "source": [
    "df"
   ]
  },
  {
   "cell_type": "code",
   "execution_count": 59,
   "id": "4d550253",
   "metadata": {},
   "outputs": [],
   "source": [
    "# Let's create a new column GPU Brand which takes the first word of column Gpu and stores it\n",
    "df['GPU Brand'] = df['Gpu'].apply(lambda x : x.split()[0])"
   ]
  },
  {
   "cell_type": "code",
   "execution_count": 60,
   "id": "9991dae4",
   "metadata": {},
   "outputs": [
    {
     "data": {
      "text/html": [
       "<div>\n",
       "<style scoped>\n",
       "    .dataframe tbody tr th:only-of-type {\n",
       "        vertical-align: middle;\n",
       "    }\n",
       "\n",
       "    .dataframe tbody tr th {\n",
       "        vertical-align: top;\n",
       "    }\n",
       "\n",
       "    .dataframe thead th {\n",
       "        text-align: right;\n",
       "    }\n",
       "</style>\n",
       "<table border=\"1\" class=\"dataframe\">\n",
       "  <thead>\n",
       "    <tr style=\"text-align: right;\">\n",
       "      <th></th>\n",
       "      <th>Company</th>\n",
       "      <th>TypeName</th>\n",
       "      <th>Inches</th>\n",
       "      <th>ScreenResolution</th>\n",
       "      <th>Ram</th>\n",
       "      <th>Memory</th>\n",
       "      <th>Gpu</th>\n",
       "      <th>OpSys</th>\n",
       "      <th>Weight</th>\n",
       "      <th>Price</th>\n",
       "      <th>Touchscreen</th>\n",
       "      <th>IPS</th>\n",
       "      <th>X_res</th>\n",
       "      <th>Y_res</th>\n",
       "      <th>CPU Brand</th>\n",
       "      <th>GPU Brand</th>\n",
       "    </tr>\n",
       "  </thead>\n",
       "  <tbody>\n",
       "    <tr>\n",
       "      <th>0</th>\n",
       "      <td>Apple</td>\n",
       "      <td>Ultrabook</td>\n",
       "      <td>13.3</td>\n",
       "      <td>IPS Panel Retina Display 2560x1600</td>\n",
       "      <td>8</td>\n",
       "      <td>128.0</td>\n",
       "      <td>Intel Iris Plus Graphics 640</td>\n",
       "      <td>macOS</td>\n",
       "      <td>1.37</td>\n",
       "      <td>71378.6832</td>\n",
       "      <td>0</td>\n",
       "      <td>1</td>\n",
       "      <td>2560</td>\n",
       "      <td>1600</td>\n",
       "      <td>Intel Core i5</td>\n",
       "      <td>Intel</td>\n",
       "    </tr>\n",
       "    <tr>\n",
       "      <th>1</th>\n",
       "      <td>Apple</td>\n",
       "      <td>Ultrabook</td>\n",
       "      <td>13.3</td>\n",
       "      <td>1440x900</td>\n",
       "      <td>8</td>\n",
       "      <td>128.0</td>\n",
       "      <td>Intel HD Graphics 6000</td>\n",
       "      <td>macOS</td>\n",
       "      <td>1.34</td>\n",
       "      <td>47895.5232</td>\n",
       "      <td>0</td>\n",
       "      <td>0</td>\n",
       "      <td>1440</td>\n",
       "      <td>900</td>\n",
       "      <td>Intel Core i5</td>\n",
       "      <td>Intel</td>\n",
       "    </tr>\n",
       "    <tr>\n",
       "      <th>2</th>\n",
       "      <td>HP</td>\n",
       "      <td>Notebook</td>\n",
       "      <td>15.6</td>\n",
       "      <td>Full HD 1920x1080</td>\n",
       "      <td>8</td>\n",
       "      <td>256.0</td>\n",
       "      <td>Intel HD Graphics 620</td>\n",
       "      <td>No OS</td>\n",
       "      <td>1.86</td>\n",
       "      <td>30636.0000</td>\n",
       "      <td>0</td>\n",
       "      <td>0</td>\n",
       "      <td>1920</td>\n",
       "      <td>1080</td>\n",
       "      <td>Intel Core i5</td>\n",
       "      <td>Intel</td>\n",
       "    </tr>\n",
       "    <tr>\n",
       "      <th>3</th>\n",
       "      <td>Apple</td>\n",
       "      <td>Ultrabook</td>\n",
       "      <td>15.4</td>\n",
       "      <td>IPS Panel Retina Display 2880x1800</td>\n",
       "      <td>16</td>\n",
       "      <td>512.0</td>\n",
       "      <td>AMD Radeon Pro 455</td>\n",
       "      <td>macOS</td>\n",
       "      <td>1.83</td>\n",
       "      <td>135195.3360</td>\n",
       "      <td>0</td>\n",
       "      <td>1</td>\n",
       "      <td>2880</td>\n",
       "      <td>1800</td>\n",
       "      <td>Intel Core i7</td>\n",
       "      <td>AMD</td>\n",
       "    </tr>\n",
       "    <tr>\n",
       "      <th>4</th>\n",
       "      <td>Apple</td>\n",
       "      <td>Ultrabook</td>\n",
       "      <td>13.3</td>\n",
       "      <td>IPS Panel Retina Display 2560x1600</td>\n",
       "      <td>8</td>\n",
       "      <td>256.0</td>\n",
       "      <td>Intel Iris Plus Graphics 650</td>\n",
       "      <td>macOS</td>\n",
       "      <td>1.37</td>\n",
       "      <td>96095.8080</td>\n",
       "      <td>0</td>\n",
       "      <td>1</td>\n",
       "      <td>2560</td>\n",
       "      <td>1600</td>\n",
       "      <td>Intel Core i5</td>\n",
       "      <td>Intel</td>\n",
       "    </tr>\n",
       "    <tr>\n",
       "      <th>...</th>\n",
       "      <td>...</td>\n",
       "      <td>...</td>\n",
       "      <td>...</td>\n",
       "      <td>...</td>\n",
       "      <td>...</td>\n",
       "      <td>...</td>\n",
       "      <td>...</td>\n",
       "      <td>...</td>\n",
       "      <td>...</td>\n",
       "      <td>...</td>\n",
       "      <td>...</td>\n",
       "      <td>...</td>\n",
       "      <td>...</td>\n",
       "      <td>...</td>\n",
       "      <td>...</td>\n",
       "      <td>...</td>\n",
       "    </tr>\n",
       "    <tr>\n",
       "      <th>1298</th>\n",
       "      <td>Lenovo</td>\n",
       "      <td>2 in 1 Convertible</td>\n",
       "      <td>14.0</td>\n",
       "      <td>IPS Panel Full HD / Touchscreen 1920x1080</td>\n",
       "      <td>4</td>\n",
       "      <td>128.0</td>\n",
       "      <td>Intel HD Graphics 520</td>\n",
       "      <td>Windows 10</td>\n",
       "      <td>1.80</td>\n",
       "      <td>33992.6400</td>\n",
       "      <td>1</td>\n",
       "      <td>1</td>\n",
       "      <td>1920</td>\n",
       "      <td>1080</td>\n",
       "      <td>Intel Core i7</td>\n",
       "      <td>Intel</td>\n",
       "    </tr>\n",
       "    <tr>\n",
       "      <th>1299</th>\n",
       "      <td>Lenovo</td>\n",
       "      <td>2 in 1 Convertible</td>\n",
       "      <td>13.3</td>\n",
       "      <td>IPS Panel Quad HD+ / Touchscreen 3200x1800</td>\n",
       "      <td>16</td>\n",
       "      <td>512.0</td>\n",
       "      <td>Intel HD Graphics 520</td>\n",
       "      <td>Windows 10</td>\n",
       "      <td>1.30</td>\n",
       "      <td>79866.7200</td>\n",
       "      <td>1</td>\n",
       "      <td>1</td>\n",
       "      <td>3200</td>\n",
       "      <td>1800</td>\n",
       "      <td>Intel Core i7</td>\n",
       "      <td>Intel</td>\n",
       "    </tr>\n",
       "    <tr>\n",
       "      <th>1300</th>\n",
       "      <td>Lenovo</td>\n",
       "      <td>Notebook</td>\n",
       "      <td>14.0</td>\n",
       "      <td>1366x768</td>\n",
       "      <td>2</td>\n",
       "      <td>64.0</td>\n",
       "      <td>Intel HD Graphics</td>\n",
       "      <td>Windows 10</td>\n",
       "      <td>1.50</td>\n",
       "      <td>12201.1200</td>\n",
       "      <td>0</td>\n",
       "      <td>0</td>\n",
       "      <td>1366</td>\n",
       "      <td>768</td>\n",
       "      <td>Other Intel Processor</td>\n",
       "      <td>Intel</td>\n",
       "    </tr>\n",
       "    <tr>\n",
       "      <th>1301</th>\n",
       "      <td>HP</td>\n",
       "      <td>Notebook</td>\n",
       "      <td>15.6</td>\n",
       "      <td>1366x768</td>\n",
       "      <td>6</td>\n",
       "      <td>1.0</td>\n",
       "      <td>AMD Radeon R5 M330</td>\n",
       "      <td>Windows 10</td>\n",
       "      <td>2.19</td>\n",
       "      <td>40705.9200</td>\n",
       "      <td>0</td>\n",
       "      <td>0</td>\n",
       "      <td>1366</td>\n",
       "      <td>768</td>\n",
       "      <td>Intel Core i7</td>\n",
       "      <td>AMD</td>\n",
       "    </tr>\n",
       "    <tr>\n",
       "      <th>1302</th>\n",
       "      <td>Asus</td>\n",
       "      <td>Notebook</td>\n",
       "      <td>15.6</td>\n",
       "      <td>1366x768</td>\n",
       "      <td>4</td>\n",
       "      <td>500.0</td>\n",
       "      <td>Intel HD Graphics</td>\n",
       "      <td>Windows 10</td>\n",
       "      <td>2.20</td>\n",
       "      <td>19660.3200</td>\n",
       "      <td>0</td>\n",
       "      <td>0</td>\n",
       "      <td>1366</td>\n",
       "      <td>768</td>\n",
       "      <td>Other Intel Processor</td>\n",
       "      <td>Intel</td>\n",
       "    </tr>\n",
       "  </tbody>\n",
       "</table>\n",
       "<p>1303 rows × 16 columns</p>\n",
       "</div>"
      ],
      "text/plain": [
       "     Company            TypeName  Inches  \\\n",
       "0      Apple           Ultrabook    13.3   \n",
       "1      Apple           Ultrabook    13.3   \n",
       "2         HP            Notebook    15.6   \n",
       "3      Apple           Ultrabook    15.4   \n",
       "4      Apple           Ultrabook    13.3   \n",
       "...      ...                 ...     ...   \n",
       "1298  Lenovo  2 in 1 Convertible    14.0   \n",
       "1299  Lenovo  2 in 1 Convertible    13.3   \n",
       "1300  Lenovo            Notebook    14.0   \n",
       "1301      HP            Notebook    15.6   \n",
       "1302    Asus            Notebook    15.6   \n",
       "\n",
       "                                ScreenResolution  Ram  Memory  \\\n",
       "0             IPS Panel Retina Display 2560x1600    8   128.0   \n",
       "1                                       1440x900    8   128.0   \n",
       "2                              Full HD 1920x1080    8   256.0   \n",
       "3             IPS Panel Retina Display 2880x1800   16   512.0   \n",
       "4             IPS Panel Retina Display 2560x1600    8   256.0   \n",
       "...                                          ...  ...     ...   \n",
       "1298   IPS Panel Full HD / Touchscreen 1920x1080    4   128.0   \n",
       "1299  IPS Panel Quad HD+ / Touchscreen 3200x1800   16   512.0   \n",
       "1300                                    1366x768    2    64.0   \n",
       "1301                                    1366x768    6     1.0   \n",
       "1302                                    1366x768    4   500.0   \n",
       "\n",
       "                               Gpu       OpSys  Weight        Price  \\\n",
       "0     Intel Iris Plus Graphics 640       macOS    1.37   71378.6832   \n",
       "1           Intel HD Graphics 6000       macOS    1.34   47895.5232   \n",
       "2            Intel HD Graphics 620       No OS    1.86   30636.0000   \n",
       "3               AMD Radeon Pro 455       macOS    1.83  135195.3360   \n",
       "4     Intel Iris Plus Graphics 650       macOS    1.37   96095.8080   \n",
       "...                            ...         ...     ...          ...   \n",
       "1298         Intel HD Graphics 520  Windows 10    1.80   33992.6400   \n",
       "1299         Intel HD Graphics 520  Windows 10    1.30   79866.7200   \n",
       "1300             Intel HD Graphics  Windows 10    1.50   12201.1200   \n",
       "1301            AMD Radeon R5 M330  Windows 10    2.19   40705.9200   \n",
       "1302             Intel HD Graphics  Windows 10    2.20   19660.3200   \n",
       "\n",
       "      Touchscreen  IPS  X_res  Y_res              CPU Brand GPU Brand  \n",
       "0               0    1   2560   1600          Intel Core i5     Intel  \n",
       "1               0    0   1440    900          Intel Core i5     Intel  \n",
       "2               0    0   1920   1080          Intel Core i5     Intel  \n",
       "3               0    1   2880   1800          Intel Core i7       AMD  \n",
       "4               0    1   2560   1600          Intel Core i5     Intel  \n",
       "...           ...  ...    ...    ...                    ...       ...  \n",
       "1298            1    1   1920   1080          Intel Core i7     Intel  \n",
       "1299            1    1   3200   1800          Intel Core i7     Intel  \n",
       "1300            0    0   1366    768  Other Intel Processor     Intel  \n",
       "1301            0    0   1366    768          Intel Core i7       AMD  \n",
       "1302            0    0   1366    768  Other Intel Processor     Intel  \n",
       "\n",
       "[1303 rows x 16 columns]"
      ]
     },
     "execution_count": 60,
     "metadata": {},
     "output_type": "execute_result"
    }
   ],
   "source": [
    "df"
   ]
  },
  {
   "cell_type": "code",
   "execution_count": 61,
   "id": "74a4a6cb",
   "metadata": {},
   "outputs": [],
   "source": [
    "df = df[df['GPU Brand'] != 'ARM']"
   ]
  },
  {
   "cell_type": "code",
   "execution_count": 62,
   "id": "297fc70a",
   "metadata": {},
   "outputs": [],
   "source": [
    "# Let's drop Gpu column\n",
    "df.drop(columns=['Gpu'], inplace=True)"
   ]
  },
  {
   "cell_type": "code",
   "execution_count": 63,
   "id": "b6cff3aa",
   "metadata": {},
   "outputs": [],
   "source": [
    "# The below function takes a oeprating system as parameter and returns whether the OS is Windows,\n",
    "# Mac or Other\n",
    "\n",
    "def cat_os(inp):\n",
    "    if inp == 'Windows 10' or inp == 'Windows 7' or inp == 'Windows 10 S':\n",
    "        return 'Windows'\n",
    "    elif inp == 'macOS' or inp == 'Mac OS X':\n",
    "        return 'Mac'\n",
    "    else:\n",
    "        return 'Others/No OS/Linux'"
   ]
  },
  {
   "cell_type": "code",
   "execution_count": 64,
   "id": "a8a1153c",
   "metadata": {},
   "outputs": [],
   "source": [
    "# Let's create a new column OS using the above function\n",
    "df['OS'] = df['OpSys'].apply(cat_os)"
   ]
  },
  {
   "cell_type": "code",
   "execution_count": 65,
   "id": "1af48ae3",
   "metadata": {},
   "outputs": [],
   "source": [
    "# Let's drop OpSys column\n",
    "df.drop(columns=['OpSys'], inplace=True)"
   ]
  },
  {
   "cell_type": "code",
   "execution_count": 66,
   "id": "cead5b5b",
   "metadata": {},
   "outputs": [],
   "source": [
    "df.drop(columns=['ScreenResolution'], inplace=True)"
   ]
  },
  {
   "cell_type": "code",
   "execution_count": 67,
   "id": "22ccb6c9",
   "metadata": {},
   "outputs": [
    {
     "data": {
      "text/plain": [
       "OS\n",
       "Windows               1125\n",
       "Others/No OS/Linux     156\n",
       "Mac                     21\n",
       "Name: count, dtype: int64"
      ]
     },
     "execution_count": 67,
     "metadata": {},
     "output_type": "execute_result"
    }
   ],
   "source": [
    "df['OS'].value_counts()"
   ]
  },
  {
   "cell_type": "code",
   "execution_count": 68,
   "id": "032651c9",
   "metadata": {},
   "outputs": [
    {
     "name": "stdout",
     "output_type": "stream",
     "text": [
      "<class 'pandas.core.frame.DataFrame'>\n",
      "Index: 1302 entries, 0 to 1302\n",
      "Data columns (total 14 columns):\n",
      " #   Column       Non-Null Count  Dtype  \n",
      "---  ------       --------------  -----  \n",
      " 0   Company      1302 non-null   object \n",
      " 1   TypeName     1302 non-null   object \n",
      " 2   Inches       1302 non-null   float64\n",
      " 3   Ram          1302 non-null   int32  \n",
      " 4   Memory       1302 non-null   float64\n",
      " 5   Weight       1302 non-null   float64\n",
      " 6   Price        1302 non-null   float64\n",
      " 7   Touchscreen  1302 non-null   int64  \n",
      " 8   IPS          1302 non-null   int64  \n",
      " 9   X_res        1302 non-null   int32  \n",
      " 10  Y_res        1302 non-null   int32  \n",
      " 11  CPU Brand    1302 non-null   object \n",
      " 12  GPU Brand    1302 non-null   object \n",
      " 13  OS           1302 non-null   object \n",
      "dtypes: float64(4), int32(3), int64(2), object(5)\n",
      "memory usage: 137.3+ KB\n"
     ]
    }
   ],
   "source": [
    "df.info()"
   ]
  },
  {
   "cell_type": "code",
   "execution_count": 69,
   "id": "b2620cdd",
   "metadata": {},
   "outputs": [
    {
     "data": {
      "text/html": [
       "<div>\n",
       "<style scoped>\n",
       "    .dataframe tbody tr th:only-of-type {\n",
       "        vertical-align: middle;\n",
       "    }\n",
       "\n",
       "    .dataframe tbody tr th {\n",
       "        vertical-align: top;\n",
       "    }\n",
       "\n",
       "    .dataframe thead th {\n",
       "        text-align: right;\n",
       "    }\n",
       "</style>\n",
       "<table border=\"1\" class=\"dataframe\">\n",
       "  <thead>\n",
       "    <tr style=\"text-align: right;\">\n",
       "      <th></th>\n",
       "      <th>Company</th>\n",
       "      <th>TypeName</th>\n",
       "      <th>Inches</th>\n",
       "      <th>Ram</th>\n",
       "      <th>Memory</th>\n",
       "      <th>Weight</th>\n",
       "      <th>Price</th>\n",
       "      <th>Touchscreen</th>\n",
       "      <th>IPS</th>\n",
       "      <th>X_res</th>\n",
       "      <th>Y_res</th>\n",
       "      <th>CPU Brand</th>\n",
       "      <th>GPU Brand</th>\n",
       "      <th>OS</th>\n",
       "    </tr>\n",
       "  </thead>\n",
       "  <tbody>\n",
       "    <tr>\n",
       "      <th>0</th>\n",
       "      <td>Apple</td>\n",
       "      <td>Ultrabook</td>\n",
       "      <td>13.3</td>\n",
       "      <td>8</td>\n",
       "      <td>128.0</td>\n",
       "      <td>1.37</td>\n",
       "      <td>71378.6832</td>\n",
       "      <td>0</td>\n",
       "      <td>1</td>\n",
       "      <td>2560</td>\n",
       "      <td>1600</td>\n",
       "      <td>Intel Core i5</td>\n",
       "      <td>Intel</td>\n",
       "      <td>Mac</td>\n",
       "    </tr>\n",
       "    <tr>\n",
       "      <th>1</th>\n",
       "      <td>Apple</td>\n",
       "      <td>Ultrabook</td>\n",
       "      <td>13.3</td>\n",
       "      <td>8</td>\n",
       "      <td>128.0</td>\n",
       "      <td>1.34</td>\n",
       "      <td>47895.5232</td>\n",
       "      <td>0</td>\n",
       "      <td>0</td>\n",
       "      <td>1440</td>\n",
       "      <td>900</td>\n",
       "      <td>Intel Core i5</td>\n",
       "      <td>Intel</td>\n",
       "      <td>Mac</td>\n",
       "    </tr>\n",
       "    <tr>\n",
       "      <th>2</th>\n",
       "      <td>HP</td>\n",
       "      <td>Notebook</td>\n",
       "      <td>15.6</td>\n",
       "      <td>8</td>\n",
       "      <td>256.0</td>\n",
       "      <td>1.86</td>\n",
       "      <td>30636.0000</td>\n",
       "      <td>0</td>\n",
       "      <td>0</td>\n",
       "      <td>1920</td>\n",
       "      <td>1080</td>\n",
       "      <td>Intel Core i5</td>\n",
       "      <td>Intel</td>\n",
       "      <td>Others/No OS/Linux</td>\n",
       "    </tr>\n",
       "    <tr>\n",
       "      <th>3</th>\n",
       "      <td>Apple</td>\n",
       "      <td>Ultrabook</td>\n",
       "      <td>15.4</td>\n",
       "      <td>16</td>\n",
       "      <td>512.0</td>\n",
       "      <td>1.83</td>\n",
       "      <td>135195.3360</td>\n",
       "      <td>0</td>\n",
       "      <td>1</td>\n",
       "      <td>2880</td>\n",
       "      <td>1800</td>\n",
       "      <td>Intel Core i7</td>\n",
       "      <td>AMD</td>\n",
       "      <td>Mac</td>\n",
       "    </tr>\n",
       "    <tr>\n",
       "      <th>4</th>\n",
       "      <td>Apple</td>\n",
       "      <td>Ultrabook</td>\n",
       "      <td>13.3</td>\n",
       "      <td>8</td>\n",
       "      <td>256.0</td>\n",
       "      <td>1.37</td>\n",
       "      <td>96095.8080</td>\n",
       "      <td>0</td>\n",
       "      <td>1</td>\n",
       "      <td>2560</td>\n",
       "      <td>1600</td>\n",
       "      <td>Intel Core i5</td>\n",
       "      <td>Intel</td>\n",
       "      <td>Mac</td>\n",
       "    </tr>\n",
       "    <tr>\n",
       "      <th>...</th>\n",
       "      <td>...</td>\n",
       "      <td>...</td>\n",
       "      <td>...</td>\n",
       "      <td>...</td>\n",
       "      <td>...</td>\n",
       "      <td>...</td>\n",
       "      <td>...</td>\n",
       "      <td>...</td>\n",
       "      <td>...</td>\n",
       "      <td>...</td>\n",
       "      <td>...</td>\n",
       "      <td>...</td>\n",
       "      <td>...</td>\n",
       "      <td>...</td>\n",
       "    </tr>\n",
       "    <tr>\n",
       "      <th>1298</th>\n",
       "      <td>Lenovo</td>\n",
       "      <td>2 in 1 Convertible</td>\n",
       "      <td>14.0</td>\n",
       "      <td>4</td>\n",
       "      <td>128.0</td>\n",
       "      <td>1.80</td>\n",
       "      <td>33992.6400</td>\n",
       "      <td>1</td>\n",
       "      <td>1</td>\n",
       "      <td>1920</td>\n",
       "      <td>1080</td>\n",
       "      <td>Intel Core i7</td>\n",
       "      <td>Intel</td>\n",
       "      <td>Windows</td>\n",
       "    </tr>\n",
       "    <tr>\n",
       "      <th>1299</th>\n",
       "      <td>Lenovo</td>\n",
       "      <td>2 in 1 Convertible</td>\n",
       "      <td>13.3</td>\n",
       "      <td>16</td>\n",
       "      <td>512.0</td>\n",
       "      <td>1.30</td>\n",
       "      <td>79866.7200</td>\n",
       "      <td>1</td>\n",
       "      <td>1</td>\n",
       "      <td>3200</td>\n",
       "      <td>1800</td>\n",
       "      <td>Intel Core i7</td>\n",
       "      <td>Intel</td>\n",
       "      <td>Windows</td>\n",
       "    </tr>\n",
       "    <tr>\n",
       "      <th>1300</th>\n",
       "      <td>Lenovo</td>\n",
       "      <td>Notebook</td>\n",
       "      <td>14.0</td>\n",
       "      <td>2</td>\n",
       "      <td>64.0</td>\n",
       "      <td>1.50</td>\n",
       "      <td>12201.1200</td>\n",
       "      <td>0</td>\n",
       "      <td>0</td>\n",
       "      <td>1366</td>\n",
       "      <td>768</td>\n",
       "      <td>Other Intel Processor</td>\n",
       "      <td>Intel</td>\n",
       "      <td>Windows</td>\n",
       "    </tr>\n",
       "    <tr>\n",
       "      <th>1301</th>\n",
       "      <td>HP</td>\n",
       "      <td>Notebook</td>\n",
       "      <td>15.6</td>\n",
       "      <td>6</td>\n",
       "      <td>1.0</td>\n",
       "      <td>2.19</td>\n",
       "      <td>40705.9200</td>\n",
       "      <td>0</td>\n",
       "      <td>0</td>\n",
       "      <td>1366</td>\n",
       "      <td>768</td>\n",
       "      <td>Intel Core i7</td>\n",
       "      <td>AMD</td>\n",
       "      <td>Windows</td>\n",
       "    </tr>\n",
       "    <tr>\n",
       "      <th>1302</th>\n",
       "      <td>Asus</td>\n",
       "      <td>Notebook</td>\n",
       "      <td>15.6</td>\n",
       "      <td>4</td>\n",
       "      <td>500.0</td>\n",
       "      <td>2.20</td>\n",
       "      <td>19660.3200</td>\n",
       "      <td>0</td>\n",
       "      <td>0</td>\n",
       "      <td>1366</td>\n",
       "      <td>768</td>\n",
       "      <td>Other Intel Processor</td>\n",
       "      <td>Intel</td>\n",
       "      <td>Windows</td>\n",
       "    </tr>\n",
       "  </tbody>\n",
       "</table>\n",
       "<p>1302 rows × 14 columns</p>\n",
       "</div>"
      ],
      "text/plain": [
       "     Company            TypeName  Inches  Ram  Memory  Weight        Price  \\\n",
       "0      Apple           Ultrabook    13.3    8   128.0    1.37   71378.6832   \n",
       "1      Apple           Ultrabook    13.3    8   128.0    1.34   47895.5232   \n",
       "2         HP            Notebook    15.6    8   256.0    1.86   30636.0000   \n",
       "3      Apple           Ultrabook    15.4   16   512.0    1.83  135195.3360   \n",
       "4      Apple           Ultrabook    13.3    8   256.0    1.37   96095.8080   \n",
       "...      ...                 ...     ...  ...     ...     ...          ...   \n",
       "1298  Lenovo  2 in 1 Convertible    14.0    4   128.0    1.80   33992.6400   \n",
       "1299  Lenovo  2 in 1 Convertible    13.3   16   512.0    1.30   79866.7200   \n",
       "1300  Lenovo            Notebook    14.0    2    64.0    1.50   12201.1200   \n",
       "1301      HP            Notebook    15.6    6     1.0    2.19   40705.9200   \n",
       "1302    Asus            Notebook    15.6    4   500.0    2.20   19660.3200   \n",
       "\n",
       "      Touchscreen  IPS  X_res  Y_res              CPU Brand GPU Brand  \\\n",
       "0               0    1   2560   1600          Intel Core i5     Intel   \n",
       "1               0    0   1440    900          Intel Core i5     Intel   \n",
       "2               0    0   1920   1080          Intel Core i5     Intel   \n",
       "3               0    1   2880   1800          Intel Core i7       AMD   \n",
       "4               0    1   2560   1600          Intel Core i5     Intel   \n",
       "...           ...  ...    ...    ...                    ...       ...   \n",
       "1298            1    1   1920   1080          Intel Core i7     Intel   \n",
       "1299            1    1   3200   1800          Intel Core i7     Intel   \n",
       "1300            0    0   1366    768  Other Intel Processor     Intel   \n",
       "1301            0    0   1366    768          Intel Core i7       AMD   \n",
       "1302            0    0   1366    768  Other Intel Processor     Intel   \n",
       "\n",
       "                      OS  \n",
       "0                    Mac  \n",
       "1                    Mac  \n",
       "2     Others/No OS/Linux  \n",
       "3                    Mac  \n",
       "4                    Mac  \n",
       "...                  ...  \n",
       "1298             Windows  \n",
       "1299             Windows  \n",
       "1300             Windows  \n",
       "1301             Windows  \n",
       "1302             Windows  \n",
       "\n",
       "[1302 rows x 14 columns]"
      ]
     },
     "execution_count": 69,
     "metadata": {},
     "output_type": "execute_result"
    }
   ],
   "source": [
    "df"
   ]
  },
  {
   "cell_type": "code",
   "execution_count": null,
   "id": "0c95904a",
   "metadata": {},
   "outputs": [],
   "source": [
    "### POE (YAPAY ZEKA) DEN BU LabelEncoder İ ÖĞRENİP UYGULADIM\n"
   ]
  },
  {
   "cell_type": "code",
   "execution_count": 71,
   "id": "c26cab7d",
   "metadata": {},
   "outputs": [],
   "source": [
    "import pandas as pd\n",
    "from sklearn.preprocessing import LabelEncoder"
   ]
  },
  {
   "cell_type": "code",
   "execution_count": 72,
   "id": "007a2e5e",
   "metadata": {},
   "outputs": [],
   "source": [
    "label_encoder = LabelEncoder()\n",
    "df['Company'] = label_encoder.fit_transform(df['Company'])"
   ]
  },
  {
   "cell_type": "code",
   "execution_count": 73,
   "id": "d8e79640",
   "metadata": {},
   "outputs": [],
   "source": [
    "label_encoder = LabelEncoder()\n",
    "df['TypeName'] = label_encoder.fit_transform(df['TypeName'])"
   ]
  },
  {
   "cell_type": "code",
   "execution_count": 74,
   "id": "ec409589",
   "metadata": {},
   "outputs": [],
   "source": [
    "label_encoder = LabelEncoder()\n",
    "df['CPU Brand'] = label_encoder.fit_transform(df['CPU Brand'])"
   ]
  },
  {
   "cell_type": "code",
   "execution_count": 75,
   "id": "331e7db2",
   "metadata": {},
   "outputs": [],
   "source": [
    "label_encoder = LabelEncoder()\n",
    "df['GPU Brand'] = label_encoder.fit_transform(df['GPU Brand'])"
   ]
  },
  {
   "cell_type": "code",
   "execution_count": 76,
   "id": "63643d1c",
   "metadata": {},
   "outputs": [],
   "source": [
    "label_encoder = LabelEncoder()\n",
    "df['OS'] = label_encoder.fit_transform(df['OS'])"
   ]
  },
  {
   "cell_type": "code",
   "execution_count": null,
   "id": "cbea7a79",
   "metadata": {},
   "outputs": [],
   "source": [
    "# Let's now seperate the independent variables(features) and the dependent variable(target)\n",
    "# X --> features\n",
    "# y --> target\n",
    "\n",
    "x = df.drop(columns=['Price'])\n",
    "y = np.log(df['Price'])"
   ]
  },
  {
   "cell_type": "code",
   "execution_count": null,
   "id": "c308acff",
   "metadata": {},
   "outputs": [],
   "source": [
    "x=pd.get_dummies(x,drop_first=True)"
   ]
  },
  {
   "cell_type": "code",
   "execution_count": null,
   "id": "2cd3d268",
   "metadata": {},
   "outputs": [],
   "source": [
    "x"
   ]
  },
  {
   "cell_type": "code",
   "execution_count": null,
   "id": "11a5d580",
   "metadata": {},
   "outputs": [],
   "source": [
    "from sklearn.model_selection import train_test_split\n",
    "x_train,x_test, y_train, y_test = train_test_split(x, y, test_size=0.15, random_state=2)"
   ]
  },
  {
   "cell_type": "code",
   "execution_count": null,
   "id": "045e94ad",
   "metadata": {},
   "outputs": [],
   "source": [
    "# Importing essential libraries\n",
    "from sklearn.compose import ColumnTransformer\n",
    "from sklearn.pipeline import Pipeline\n",
    "from sklearn.preprocessing import OneHotEncoder\n",
    "from sklearn.metrics import r2_score,mean_absolute_error"
   ]
  },
  {
   "cell_type": "code",
   "execution_count": null,
   "id": "a2245a4a",
   "metadata": {},
   "outputs": [],
   "source": [
    "# Importing essential libraries to use different regression models\n",
    "from sklearn.linear_model import LinearRegression,Ridge,Lasso\n",
    "from sklearn.neighbors import KNeighborsRegressor\n",
    "from sklearn.tree import DecisionTreeRegressor\n",
    "from sklearn.ensemble import RandomForestRegressor,GradientBoostingRegressor,AdaBoostRegressor,ExtraTreesRegressor\n",
    "from sklearn.svm import SVR\n",
    "from xgboost import XGBRegressor"
   ]
  },
  {
   "cell_type": "code",
   "execution_count": null,
   "id": "57013ad6",
   "metadata": {},
   "outputs": [],
   "source": [
    "step1 = ColumnTransformer(transformers=[\n",
    "    ('col_tnf',OneHotEncoder(sparse=False,drop='first'),[0,1,7,10,11])\n",
    "],remainder='passthrough')\n",
    "\n",
    "step2 = LinearRegression()\n",
    "\n",
    "pipe = Pipeline([\n",
    "    ('step1',step1),\n",
    "    ('step2',step2)\n",
    "])\n",
    "\n",
    "pipe.fit(x_train,y_train)\n",
    "\n",
    "y_pred = pipe.predict(x_test)\n",
    "\n",
    "print('R2 score',r2_score(y_test,y_pred))\n",
    "print('MAE',mean_absolute_error(y_test,y_pred) )"
   ]
  },
  {
   "cell_type": "code",
   "execution_count": null,
   "id": "d21d994b",
   "metadata": {},
   "outputs": [],
   "source": [
    "step1 = ColumnTransformer(transformers=[\n",
    "    ('col_tnf',OneHotEncoder(sparse=False,drop='first'),[0,1,7,10,11])\n",
    "],remainder='passthrough')\n",
    "\n",
    "step2 = Ridge(alpha=10)\n",
    "\n",
    "pipe = Pipeline([\n",
    "    ('step1',step1),\n",
    "    ('step2',step2)\n",
    "])\n",
    "\n",
    "pipe.fit(x_train,y_train)\n",
    "\n",
    "y_pred = pipe.predict(x_test)\n",
    "\n",
    "print('R2 score',r2_score(y_test,y_pred))\n",
    "print('MAE',mean_absolute_error(y_test,y_pred))"
   ]
  },
  {
   "cell_type": "code",
   "execution_count": null,
   "id": "0806ca94",
   "metadata": {},
   "outputs": [],
   "source": [
    "step1 = ColumnTransformer(transformers=[\n",
    "    ('col_tnf',OneHotEncoder(sparse=False,drop='first'),[0,1,7,10,11])\n",
    "],remainder='passthrough')\n",
    "\n",
    "step2 = Lasso(alpha=0.001)\n",
    "\n",
    "pipe = Pipeline([\n",
    "    ('step1',step1),\n",
    "    ('step2',step2)\n",
    "])\n",
    "\n",
    "pipe.fit(x_train,y_train)\n",
    "\n",
    "y_pred = pipe.predict(x_test)\n",
    "\n",
    "print('R2 score',r2_score(y_test,y_pred))\n",
    "print('MAE',mean_absolute_error(y_test,y_pred))"
   ]
  },
  {
   "cell_type": "code",
   "execution_count": null,
   "id": "402f535a",
   "metadata": {},
   "outputs": [],
   "source": [
    "step1 = ColumnTransformer(transformers=[\n",
    "    ('col_tnf',OneHotEncoder(sparse=False,drop='first'),[0,1,7,10,11])\n",
    "],remainder='passthrough')\n",
    "\n",
    "step2 = KNeighborsRegressor(n_neighbors=3)\n",
    "\n",
    "pipe = Pipeline([\n",
    "    ('step1',step1),\n",
    "    ('step2',step2)\n",
    "])\n",
    "\n",
    "pipe.fit(x_train,y_train)\n",
    "\n",
    "y_pred = pipe.predict(x_test)\n",
    "\n",
    "print('R2 score',r2_score(y_test,y_pred))\n",
    "print('MAE',mean_absolute_error(y_test,y_pred))"
   ]
  },
  {
   "cell_type": "code",
   "execution_count": null,
   "id": "11e4bf63",
   "metadata": {},
   "outputs": [],
   "source": [
    "step1 = ColumnTransformer(transformers=[\n",
    "    ('col_tnf',OneHotEncoder(sparse=False,drop='first'),[0,1,7,10,11])\n",
    "],remainder='passthrough')\n",
    "\n",
    "step2 = DecisionTreeRegressor(max_depth=8)\n",
    "\n",
    "pipe = Pipeline([\n",
    "    ('step1',step1),\n",
    "    ('step2',step2)\n",
    "])\n",
    "\n",
    "pipe.fit(x_train,y_train)\n",
    "\n",
    "y_pred = pipe.predict(x_test)\n",
    "\n",
    "print('R2 score',r2_score(y_test,y_pred))\n",
    "print('MAE',mean_absolute_error(y_test,y_pred))"
   ]
  },
  {
   "cell_type": "code",
   "execution_count": null,
   "id": "125e07e3",
   "metadata": {},
   "outputs": [],
   "source": [
    "step1 = ColumnTransformer(transformers=[\n",
    "    ('col_tnf',OneHotEncoder(sparse=False,drop='first'),[0,1,7,10,11])\n",
    "],remainder='passthrough')\n",
    "\n",
    "step2 = SVR(kernel='rbf',C=10000,epsilon=0.1)\n",
    "\n",
    "pipe = Pipeline([\n",
    "    ('step1',step1),\n",
    "    ('step2',step2)\n",
    "])\n",
    "\n",
    "pipe.fit(x_train,y_train)\n",
    "\n",
    "y_pred = pipe.predict(x_test)\n",
    "\n",
    "print('R2 score',r2_score(y_test,y_pred))\n",
    "print('MAE',mean_absolute_error(y_test,y_pred))"
   ]
  },
  {
   "cell_type": "code",
   "execution_count": null,
   "id": "20b8eccb",
   "metadata": {},
   "outputs": [],
   "source": [
    "bootstrap = True\n",
    "\n",
    "step1 = ColumnTransformer(transformers=[\n",
    "    ('col_tnf',OneHotEncoder(sparse=False,drop='first'),[0,1,7,10,11])\n",
    "],remainder='passthrough')\n",
    "\n",
    "step2 = ExtraTreesRegressor(n_estimators=100,\n",
    "                              random_state=3,\n",
    "                              max_samples=None if bootstrap else 0.5,\n",
    "                              max_features=0.75,\n",
    "                              max_depth=15)\n",
    "\n",
    "pipe = Pipeline([\n",
    "    ('step1',step1),\n",
    "    ('step2',step2)\n",
    "])\n",
    "\n",
    "pipe.fit(x_train,y_train)\n",
    "\n",
    "y_pred = pipe.predict(x_test)\n",
    "\n",
    "print('R2 score',r2_score(y_test,y_pred))\n",
    "print('MAE',mean_absolute_error(y_test,y_pred))"
   ]
  },
  {
   "cell_type": "code",
   "execution_count": null,
   "id": "f36ac60c",
   "metadata": {},
   "outputs": [],
   "source": [
    "step1 = ColumnTransformer(transformers=[\n",
    "    ('col_tnf',OneHotEncoder(sparse=False,drop='first'),[0,1,7,10,11])\n",
    "],remainder='passthrough')\n",
    "\n",
    "step2 = AdaBoostRegressor(n_estimators=15,learning_rate=1.0)\n",
    "\n",
    "pipe = Pipeline([\n",
    "    ('step1',step1),\n",
    "    ('step2',step2)\n",
    "])\n",
    "\n",
    "pipe.fit(x_train,y_train)\n",
    "\n",
    "y_pred = pipe.predict(x_test)\n",
    "\n",
    "print('R2 score',r2_score(y_test,y_pred))\n",
    "print('MAE',mean_absolute_error(y_test,y_pred))"
   ]
  },
  {
   "cell_type": "code",
   "execution_count": null,
   "id": "eacd3e4a",
   "metadata": {},
   "outputs": [],
   "source": [
    "step1 = ColumnTransformer(transformers=[\n",
    "    ('col_tnf',OneHotEncoder(sparse=False,drop='first'),[0,1,7,10,11])\n",
    "],remainder='passthrough')\n",
    "\n",
    "step2 = XGBRegressor(n_estimators=45,max_depth=5,learning_rate=0.5)\n",
    "\n",
    "pipe = Pipeline([\n",
    "    ('step1',step1),\n",
    "    ('step2',step2)\n",
    "])\n",
    "\n",
    "pipe.fit(x_train,y_train)\n",
    "\n",
    "y_pred = pipe.predict(x_test)\n",
    "\n",
    "print('R2 score',r2_score(y_test,y_pred))\n",
    "print('MAE',mean_absolute_error(y_test,y_pred))"
   ]
  },
  {
   "cell_type": "code",
   "execution_count": null,
   "id": "12027daa",
   "metadata": {},
   "outputs": [],
   "source": [
    "step1 = ColumnTransformer(transformers=[\n",
    "    ('col_tnf',OneHotEncoder(sparse=False,drop='first'),[0,1,7,10,11])\n",
    "],remainder='passthrough')\n",
    "\n",
    "step2 = GradientBoostingRegressor(n_estimators=500)\n",
    "\n",
    "pipe = Pipeline([\n",
    "    ('step1',step1),\n",
    "    ('step2',step2)\n",
    "])\n",
    "\n",
    "pipe.fit(x_train,y_train)\n",
    "\n",
    "y_pred = pipe.predict(X_test)\n",
    "\n",
    "print('R2 score',r2_score(y_test,y_pred))\n",
    "print('MAE',mean_absolute_error(y_test,y_pred))"
   ]
  },
  {
   "cell_type": "code",
   "execution_count": null,
   "id": "e8e704d0",
   "metadata": {},
   "outputs": [],
   "source": [
    "\n",
    "import pandas as pd\n",
    "import numpy as np\n",
    "import matplotlib.pyplot as plt\n",
    "import seaborn as sns\n",
    "import warnings\n",
    "warnings.filterwarnings(\"ignore\")\n",
    "pd.set_option(\"display.max_columns\",100)\n",
    "\n",
    "from sklearn.linear_model import LinearRegression,SGDRegressor,Ridge,Lasso,ElasticNet\n",
    "from sklearn.neighbors import KNeighborsRegressor, RadiusNeighborsRegressor\n",
    "from sklearn.ensemble import GradientBoostingRegressor,AdaBoostRegressor\n",
    "from sklearn.tree import DecisionTreeRegressor, plot_tree, ExtraTreeRegressor\n",
    "#pip install xgboost\n",
    "from xgboost import XGBRegressor\n",
    "from sklearn.svm import SVR\n",
    "\n",
    "from sklearn.neural_network import MLPRegressor\n",
    "\n",
    "from sklearn.model_selection import train_test_split\n",
    "from sklearn.metrics import mean_squared_error,r2_score,mean_absolute_error\n",
    "\n",
    "from sklearn.preprocessing import StandardScaler\n",
    "\n",
    "\n",
    "def algo_test(x,y):\n",
    "        #Bütün modelleri tanımlıyorum\n",
    "        L=LinearRegression()\n",
    "        R=Ridge()\n",
    "        Lass=Lasso()\n",
    "        E=ElasticNet()\n",
    "        sgd=SGDRegressor()\n",
    "        ETR=ExtraTreeRegressor()\n",
    "        GBR=GradientBoostingRegressor()\n",
    "        kn=KNeighborsRegressor()\n",
    "        rkn=RadiusNeighborsRegressor(radius=1.0)\n",
    "        ada=AdaBoostRegressor()\n",
    "        dt=DecisionTreeRegressor()\n",
    "        xgb=XGBRegressor()\n",
    "        svr=SVR()\n",
    "        mlp_regressor = MLPRegressor()\n",
    "\n",
    "       \n",
    "        \n",
    "        algos=[L,R,Lass,E,sgd,ETR,GBR,ada,kn,dt,xgb,svr,mlp_regressor]\n",
    "        algo_names=['Linear','Ridge','Lasso','ElasticNet','SGD','Extra Tree','Gradient Boosting',\n",
    "                    'KNeighborsRegressor','AdaBoost','Decision Tree','XGBRegressor','SVR','mlp_regressor']\n",
    "        \n",
    "        x_train, x_test, y_train, y_test=train_test_split(x,y,test_size=.20,random_state=42)\n",
    "        \n",
    "        r_squared= []\n",
    "        rmse= []\n",
    "        mae= []\n",
    "        \n",
    "        #Hata ve doğruluk oranlarını bir tablo haline getirmek için bir dataframe oluşturuyorum\n",
    "        result=pd.DataFrame(columns=['R_Squared','RMSE','MAE'],index=algo_names)\n",
    "        \n",
    "        \n",
    "        for algo in algos:\n",
    "            p=algo.fit(x_train,y_train).predict(x_test)\n",
    "            r_squared.append(r2_score(y_test,p))\n",
    "            rmse.append(mean_squared_error(y_test,p)**.5)\n",
    "            mae.append(mean_absolute_error(y_test,p))\n",
    "        \n",
    "            \n",
    "\n",
    "        #result adlı tabloya doğruluk ve hata oranlarımı yerleştiriyorum\n",
    "        result.R_Squared=r_squared\n",
    "        result.RMSE=rmse\n",
    "        result.MAE=mae\n",
    "        \n",
    "       #oluşturduğum result tablosunu doğruluk oranına (r2_score) göre sıralayıp dönüyor\n",
    "        rtable=result.sort_values('R_Squared',ascending=False)\n",
    "        return rtable\n",
    "#RegressionFuntion.py\n",
    "#RegressionFuntion.py #görüntüleniyor."
   ]
  },
  {
   "cell_type": "code",
   "execution_count": null,
   "id": "1fb80201",
   "metadata": {},
   "outputs": [],
   "source": [
    "from sklearn.naive_bayes import GaussianNB"
   ]
  },
  {
   "cell_type": "code",
   "execution_count": null,
   "id": "46423be7",
   "metadata": {},
   "outputs": [],
   "source": [
    "g=GaussianNB()"
   ]
  },
  {
   "cell_type": "code",
   "execution_count": null,
   "id": "4565b2f6",
   "metadata": {},
   "outputs": [],
   "source": [
    "# Let's now seperate the independent variables(features) and the dependent variable(target)\n",
    "# X --> features\n",
    "# y --> target\n",
    "\n",
    "x = df.drop(columns=['Price'])\n",
    "y = np.log(df['Price'])"
   ]
  },
  {
   "cell_type": "code",
   "execution_count": null,
   "id": "0bcec502",
   "metadata": {},
   "outputs": [],
   "source": [
    "model=g.fit(x,y)\n",
    "tahmin=g.predict(test)"
   ]
  },
  {
   "cell_type": "code",
   "execution_count": null,
   "id": "52f08d53",
   "metadata": {},
   "outputs": [],
   "source": [
    "df"
   ]
  },
  {
   "cell_type": "code",
   "execution_count": null,
   "id": "c67db6c1",
   "metadata": {},
   "outputs": [],
   "source": [
    "from scipy.stats import ttest_ind"
   ]
  },
  {
   "cell_type": "code",
   "execution_count": null,
   "id": "faace15d",
   "metadata": {},
   "outputs": [],
   "source": [
    "_,p=ttest_ind(df['Price'],df['Weight'])\n",
    "p"
   ]
  },
  {
   "cell_type": "code",
   "execution_count": null,
   "id": "2662733a",
   "metadata": {},
   "outputs": [],
   "source": [
    "abs(df.corr(numeric_only=True)['Price'].sort_values(ascending=False))"
   ]
  },
  {
   "cell_type": "code",
   "execution_count": 77,
   "id": "498805a7",
   "metadata": {},
   "outputs": [],
   "source": [
    "x = df.drop(columns=['Price'])\n",
    "y = np.log(df['Price'])"
   ]
  },
  {
   "cell_type": "code",
   "execution_count": 78,
   "id": "ba394dd3",
   "metadata": {},
   "outputs": [],
   "source": [
    "from sklearn.model_selection import train_test_split"
   ]
  },
  {
   "cell_type": "code",
   "execution_count": 79,
   "id": "85b74055",
   "metadata": {},
   "outputs": [],
   "source": [
    "x_train,x_test,y_train,y_test=train_test_split(x,y,test_size=0.20,random_state=42)"
   ]
  },
  {
   "cell_type": "code",
   "execution_count": 80,
   "id": "cd53e950",
   "metadata": {},
   "outputs": [
    {
     "data": {
      "text/plain": [
       "((1041, 13), (261, 13))"
      ]
     },
     "execution_count": 80,
     "metadata": {},
     "output_type": "execute_result"
    }
   ],
   "source": [
    "x_train.shape ,x_test.shape"
   ]
  },
  {
   "cell_type": "code",
   "execution_count": 81,
   "id": "f6a8f987",
   "metadata": {},
   "outputs": [],
   "source": [
    "from sklearn.linear_model import LinearRegression"
   ]
  },
  {
   "cell_type": "code",
   "execution_count": 82,
   "id": "5e50a510",
   "metadata": {},
   "outputs": [],
   "source": [
    "lr=LinearRegression()"
   ]
  },
  {
   "cell_type": "code",
   "execution_count": 83,
   "id": "441588be",
   "metadata": {},
   "outputs": [],
   "source": [
    "x=pd.get_dummies(x,drop_first=True)"
   ]
  },
  {
   "cell_type": "code",
   "execution_count": 84,
   "id": "8905f014",
   "metadata": {},
   "outputs": [],
   "source": [
    "model=lr.fit(x_train,y_train)"
   ]
  },
  {
   "cell_type": "code",
   "execution_count": 85,
   "id": "7a54ca2c",
   "metadata": {},
   "outputs": [],
   "source": [
    "tahmin=model.predict(x_test)"
   ]
  },
  {
   "cell_type": "code",
   "execution_count": 86,
   "id": "39c63447",
   "metadata": {},
   "outputs": [],
   "source": [
    "from sklearn.metrics import r2_score, mean_squared_error"
   ]
  },
  {
   "cell_type": "code",
   "execution_count": 87,
   "id": "811ef5e5",
   "metadata": {},
   "outputs": [
    {
     "data": {
      "text/plain": [
       "0.37356229095325627"
      ]
     },
     "execution_count": 87,
     "metadata": {},
     "output_type": "execute_result"
    }
   ],
   "source": [
    "mean_squared_error(y_test,tahmin)**0.5"
   ]
  },
  {
   "cell_type": "code",
   "execution_count": 88,
   "id": "fb0568c1",
   "metadata": {},
   "outputs": [
    {
     "data": {
      "text/plain": [
       "0.6378118915077882"
      ]
     },
     "execution_count": 88,
     "metadata": {},
     "output_type": "execute_result"
    }
   ],
   "source": [
    "r2_score(y_test,tahmin)"
   ]
  },
  {
   "cell_type": "code",
   "execution_count": 89,
   "id": "d8a2d6cc",
   "metadata": {},
   "outputs": [
    {
     "data": {
      "text/html": [
       "<div>\n",
       "<style scoped>\n",
       "    .dataframe tbody tr th:only-of-type {\n",
       "        vertical-align: middle;\n",
       "    }\n",
       "\n",
       "    .dataframe tbody tr th {\n",
       "        vertical-align: top;\n",
       "    }\n",
       "\n",
       "    .dataframe thead th {\n",
       "        text-align: right;\n",
       "    }\n",
       "</style>\n",
       "<table border=\"1\" class=\"dataframe\">\n",
       "  <thead>\n",
       "    <tr style=\"text-align: right;\">\n",
       "      <th></th>\n",
       "      <th>Company</th>\n",
       "      <th>TypeName</th>\n",
       "      <th>Inches</th>\n",
       "      <th>Ram</th>\n",
       "      <th>Memory</th>\n",
       "      <th>Weight</th>\n",
       "      <th>Price</th>\n",
       "      <th>Touchscreen</th>\n",
       "      <th>IPS</th>\n",
       "      <th>X_res</th>\n",
       "      <th>Y_res</th>\n",
       "      <th>CPU Brand</th>\n",
       "      <th>GPU Brand</th>\n",
       "      <th>OS</th>\n",
       "    </tr>\n",
       "  </thead>\n",
       "  <tbody>\n",
       "    <tr>\n",
       "      <th>0</th>\n",
       "      <td>1</td>\n",
       "      <td>4</td>\n",
       "      <td>13.3</td>\n",
       "      <td>8</td>\n",
       "      <td>128.0</td>\n",
       "      <td>1.37</td>\n",
       "      <td>71378.6832</td>\n",
       "      <td>0</td>\n",
       "      <td>1</td>\n",
       "      <td>2560</td>\n",
       "      <td>1600</td>\n",
       "      <td>2</td>\n",
       "      <td>1</td>\n",
       "      <td>0</td>\n",
       "    </tr>\n",
       "    <tr>\n",
       "      <th>1</th>\n",
       "      <td>1</td>\n",
       "      <td>4</td>\n",
       "      <td>13.3</td>\n",
       "      <td>8</td>\n",
       "      <td>128.0</td>\n",
       "      <td>1.34</td>\n",
       "      <td>47895.5232</td>\n",
       "      <td>0</td>\n",
       "      <td>0</td>\n",
       "      <td>1440</td>\n",
       "      <td>900</td>\n",
       "      <td>2</td>\n",
       "      <td>1</td>\n",
       "      <td>0</td>\n",
       "    </tr>\n",
       "    <tr>\n",
       "      <th>2</th>\n",
       "      <td>7</td>\n",
       "      <td>3</td>\n",
       "      <td>15.6</td>\n",
       "      <td>8</td>\n",
       "      <td>256.0</td>\n",
       "      <td>1.86</td>\n",
       "      <td>30636.0000</td>\n",
       "      <td>0</td>\n",
       "      <td>0</td>\n",
       "      <td>1920</td>\n",
       "      <td>1080</td>\n",
       "      <td>2</td>\n",
       "      <td>1</td>\n",
       "      <td>1</td>\n",
       "    </tr>\n",
       "    <tr>\n",
       "      <th>3</th>\n",
       "      <td>1</td>\n",
       "      <td>4</td>\n",
       "      <td>15.4</td>\n",
       "      <td>16</td>\n",
       "      <td>512.0</td>\n",
       "      <td>1.83</td>\n",
       "      <td>135195.3360</td>\n",
       "      <td>0</td>\n",
       "      <td>1</td>\n",
       "      <td>2880</td>\n",
       "      <td>1800</td>\n",
       "      <td>3</td>\n",
       "      <td>0</td>\n",
       "      <td>0</td>\n",
       "    </tr>\n",
       "    <tr>\n",
       "      <th>4</th>\n",
       "      <td>1</td>\n",
       "      <td>4</td>\n",
       "      <td>13.3</td>\n",
       "      <td>8</td>\n",
       "      <td>256.0</td>\n",
       "      <td>1.37</td>\n",
       "      <td>96095.8080</td>\n",
       "      <td>0</td>\n",
       "      <td>1</td>\n",
       "      <td>2560</td>\n",
       "      <td>1600</td>\n",
       "      <td>2</td>\n",
       "      <td>1</td>\n",
       "      <td>0</td>\n",
       "    </tr>\n",
       "    <tr>\n",
       "      <th>...</th>\n",
       "      <td>...</td>\n",
       "      <td>...</td>\n",
       "      <td>...</td>\n",
       "      <td>...</td>\n",
       "      <td>...</td>\n",
       "      <td>...</td>\n",
       "      <td>...</td>\n",
       "      <td>...</td>\n",
       "      <td>...</td>\n",
       "      <td>...</td>\n",
       "      <td>...</td>\n",
       "      <td>...</td>\n",
       "      <td>...</td>\n",
       "      <td>...</td>\n",
       "    </tr>\n",
       "    <tr>\n",
       "      <th>1298</th>\n",
       "      <td>10</td>\n",
       "      <td>0</td>\n",
       "      <td>14.0</td>\n",
       "      <td>4</td>\n",
       "      <td>128.0</td>\n",
       "      <td>1.80</td>\n",
       "      <td>33992.6400</td>\n",
       "      <td>1</td>\n",
       "      <td>1</td>\n",
       "      <td>1920</td>\n",
       "      <td>1080</td>\n",
       "      <td>3</td>\n",
       "      <td>1</td>\n",
       "      <td>2</td>\n",
       "    </tr>\n",
       "    <tr>\n",
       "      <th>1299</th>\n",
       "      <td>10</td>\n",
       "      <td>0</td>\n",
       "      <td>13.3</td>\n",
       "      <td>16</td>\n",
       "      <td>512.0</td>\n",
       "      <td>1.30</td>\n",
       "      <td>79866.7200</td>\n",
       "      <td>1</td>\n",
       "      <td>1</td>\n",
       "      <td>3200</td>\n",
       "      <td>1800</td>\n",
       "      <td>3</td>\n",
       "      <td>1</td>\n",
       "      <td>2</td>\n",
       "    </tr>\n",
       "    <tr>\n",
       "      <th>1300</th>\n",
       "      <td>10</td>\n",
       "      <td>3</td>\n",
       "      <td>14.0</td>\n",
       "      <td>2</td>\n",
       "      <td>64.0</td>\n",
       "      <td>1.50</td>\n",
       "      <td>12201.1200</td>\n",
       "      <td>0</td>\n",
       "      <td>0</td>\n",
       "      <td>1366</td>\n",
       "      <td>768</td>\n",
       "      <td>4</td>\n",
       "      <td>1</td>\n",
       "      <td>2</td>\n",
       "    </tr>\n",
       "    <tr>\n",
       "      <th>1301</th>\n",
       "      <td>7</td>\n",
       "      <td>3</td>\n",
       "      <td>15.6</td>\n",
       "      <td>6</td>\n",
       "      <td>1.0</td>\n",
       "      <td>2.19</td>\n",
       "      <td>40705.9200</td>\n",
       "      <td>0</td>\n",
       "      <td>0</td>\n",
       "      <td>1366</td>\n",
       "      <td>768</td>\n",
       "      <td>3</td>\n",
       "      <td>0</td>\n",
       "      <td>2</td>\n",
       "    </tr>\n",
       "    <tr>\n",
       "      <th>1302</th>\n",
       "      <td>2</td>\n",
       "      <td>3</td>\n",
       "      <td>15.6</td>\n",
       "      <td>4</td>\n",
       "      <td>500.0</td>\n",
       "      <td>2.20</td>\n",
       "      <td>19660.3200</td>\n",
       "      <td>0</td>\n",
       "      <td>0</td>\n",
       "      <td>1366</td>\n",
       "      <td>768</td>\n",
       "      <td>4</td>\n",
       "      <td>1</td>\n",
       "      <td>2</td>\n",
       "    </tr>\n",
       "  </tbody>\n",
       "</table>\n",
       "<p>1302 rows × 14 columns</p>\n",
       "</div>"
      ],
      "text/plain": [
       "      Company  TypeName  Inches  Ram  Memory  Weight        Price  \\\n",
       "0           1         4    13.3    8   128.0    1.37   71378.6832   \n",
       "1           1         4    13.3    8   128.0    1.34   47895.5232   \n",
       "2           7         3    15.6    8   256.0    1.86   30636.0000   \n",
       "3           1         4    15.4   16   512.0    1.83  135195.3360   \n",
       "4           1         4    13.3    8   256.0    1.37   96095.8080   \n",
       "...       ...       ...     ...  ...     ...     ...          ...   \n",
       "1298       10         0    14.0    4   128.0    1.80   33992.6400   \n",
       "1299       10         0    13.3   16   512.0    1.30   79866.7200   \n",
       "1300       10         3    14.0    2    64.0    1.50   12201.1200   \n",
       "1301        7         3    15.6    6     1.0    2.19   40705.9200   \n",
       "1302        2         3    15.6    4   500.0    2.20   19660.3200   \n",
       "\n",
       "      Touchscreen  IPS  X_res  Y_res  CPU Brand  GPU Brand  OS  \n",
       "0               0    1   2560   1600          2          1   0  \n",
       "1               0    0   1440    900          2          1   0  \n",
       "2               0    0   1920   1080          2          1   1  \n",
       "3               0    1   2880   1800          3          0   0  \n",
       "4               0    1   2560   1600          2          1   0  \n",
       "...           ...  ...    ...    ...        ...        ...  ..  \n",
       "1298            1    1   1920   1080          3          1   2  \n",
       "1299            1    1   3200   1800          3          1   2  \n",
       "1300            0    0   1366    768          4          1   2  \n",
       "1301            0    0   1366    768          3          0   2  \n",
       "1302            0    0   1366    768          4          1   2  \n",
       "\n",
       "[1302 rows x 14 columns]"
      ]
     },
     "execution_count": 89,
     "metadata": {},
     "output_type": "execute_result"
    }
   ],
   "source": [
    "df"
   ]
  },
  {
   "cell_type": "code",
   "execution_count": 90,
   "id": "3eb83162",
   "metadata": {
    "collapsed": true,
    "jupyter": {
     "outputs_hidden": true
    }
   },
   "outputs": [
    {
     "data": {
      "text/html": [
       "<div>\n",
       "<style scoped>\n",
       "    .dataframe tbody tr th:only-of-type {\n",
       "        vertical-align: middle;\n",
       "    }\n",
       "\n",
       "    .dataframe tbody tr th {\n",
       "        vertical-align: top;\n",
       "    }\n",
       "\n",
       "    .dataframe thead th {\n",
       "        text-align: right;\n",
       "    }\n",
       "</style>\n",
       "<table border=\"1\" class=\"dataframe\">\n",
       "  <thead>\n",
       "    <tr style=\"text-align: right;\">\n",
       "      <th></th>\n",
       "      <th>Company</th>\n",
       "      <th>TypeName</th>\n",
       "      <th>Inches</th>\n",
       "      <th>Ram</th>\n",
       "      <th>Memory</th>\n",
       "      <th>Weight</th>\n",
       "      <th>Price</th>\n",
       "      <th>Touchscreen</th>\n",
       "      <th>IPS</th>\n",
       "      <th>X_res</th>\n",
       "      <th>Y_res</th>\n",
       "      <th>CPU Brand</th>\n",
       "      <th>GPU Brand</th>\n",
       "      <th>OS</th>\n",
       "    </tr>\n",
       "  </thead>\n",
       "  <tbody>\n",
       "    <tr>\n",
       "      <th>Company</th>\n",
       "      <td>1.000000</td>\n",
       "      <td>-0.004392</td>\n",
       "      <td>-0.082971</td>\n",
       "      <td>0.047991</td>\n",
       "      <td>0.093403</td>\n",
       "      <td>-0.127763</td>\n",
       "      <td>0.141705</td>\n",
       "      <td>0.034968</td>\n",
       "      <td>0.115935</td>\n",
       "      <td>0.054704</td>\n",
       "      <td>0.050464</td>\n",
       "      <td>0.011650</td>\n",
       "      <td>0.038225</td>\n",
       "      <td>0.155474</td>\n",
       "    </tr>\n",
       "    <tr>\n",
       "      <th>TypeName</th>\n",
       "      <td>-0.004392</td>\n",
       "      <td>1.000000</td>\n",
       "      <td>-0.080711</td>\n",
       "      <td>-0.244710</td>\n",
       "      <td>0.057328</td>\n",
       "      <td>-0.269762</td>\n",
       "      <td>-0.128608</td>\n",
       "      <td>-0.414963</td>\n",
       "      <td>-0.160725</td>\n",
       "      <td>-0.083335</td>\n",
       "      <td>-0.066997</td>\n",
       "      <td>-0.117511</td>\n",
       "      <td>-0.248380</td>\n",
       "      <td>-0.111208</td>\n",
       "    </tr>\n",
       "    <tr>\n",
       "      <th>Inches</th>\n",
       "      <td>-0.082971</td>\n",
       "      <td>-0.080711</td>\n",
       "      <td>1.000000</td>\n",
       "      <td>0.237129</td>\n",
       "      <td>-0.100358</td>\n",
       "      <td>0.827397</td>\n",
       "      <td>0.067329</td>\n",
       "      <td>-0.359514</td>\n",
       "      <td>-0.112726</td>\n",
       "      <td>-0.069875</td>\n",
       "      <td>-0.092934</td>\n",
       "      <td>-0.186115</td>\n",
       "      <td>0.236978</td>\n",
       "      <td>0.083561</td>\n",
       "    </tr>\n",
       "    <tr>\n",
       "      <th>Ram</th>\n",
       "      <td>0.047991</td>\n",
       "      <td>-0.244710</td>\n",
       "      <td>0.237129</td>\n",
       "      <td>1.000000</td>\n",
       "      <td>0.183405</td>\n",
       "      <td>0.383362</td>\n",
       "      <td>0.742905</td>\n",
       "      <td>0.118875</td>\n",
       "      <td>0.207949</td>\n",
       "      <td>0.434095</td>\n",
       "      <td>0.426357</td>\n",
       "      <td>0.224361</td>\n",
       "      <td>0.346603</td>\n",
       "      <td>0.121304</td>\n",
       "    </tr>\n",
       "    <tr>\n",
       "      <th>Memory</th>\n",
       "      <td>0.093403</td>\n",
       "      <td>0.057328</td>\n",
       "      <td>-0.100358</td>\n",
       "      <td>0.183405</td>\n",
       "      <td>1.000000</td>\n",
       "      <td>-0.106959</td>\n",
       "      <td>0.297800</td>\n",
       "      <td>0.094737</td>\n",
       "      <td>0.071152</td>\n",
       "      <td>0.156245</td>\n",
       "      <td>0.158320</td>\n",
       "      <td>0.038036</td>\n",
       "      <td>0.006743</td>\n",
       "      <td>0.079908</td>\n",
       "    </tr>\n",
       "    <tr>\n",
       "      <th>Weight</th>\n",
       "      <td>-0.127763</td>\n",
       "      <td>-0.269762</td>\n",
       "      <td>0.827397</td>\n",
       "      <td>0.383362</td>\n",
       "      <td>-0.106959</td>\n",
       "      <td>1.000000</td>\n",
       "      <td>0.209867</td>\n",
       "      <td>-0.293004</td>\n",
       "      <td>0.018643</td>\n",
       "      <td>-0.031866</td>\n",
       "      <td>-0.052041</td>\n",
       "      <td>-0.057940</td>\n",
       "      <td>0.346947</td>\n",
       "      <td>0.080699</td>\n",
       "    </tr>\n",
       "    <tr>\n",
       "      <th>Price</th>\n",
       "      <td>0.141705</td>\n",
       "      <td>-0.128608</td>\n",
       "      <td>0.067329</td>\n",
       "      <td>0.742905</td>\n",
       "      <td>0.297800</td>\n",
       "      <td>0.209867</td>\n",
       "      <td>1.000000</td>\n",
       "      <td>0.192917</td>\n",
       "      <td>0.253320</td>\n",
       "      <td>0.557369</td>\n",
       "      <td>0.554591</td>\n",
       "      <td>0.245597</td>\n",
       "      <td>0.355788</td>\n",
       "      <td>0.176937</td>\n",
       "    </tr>\n",
       "    <tr>\n",
       "      <th>Touchscreen</th>\n",
       "      <td>0.034968</td>\n",
       "      <td>-0.414963</td>\n",
       "      <td>-0.359514</td>\n",
       "      <td>0.118875</td>\n",
       "      <td>0.094737</td>\n",
       "      <td>-0.293004</td>\n",
       "      <td>0.192917</td>\n",
       "      <td>1.000000</td>\n",
       "      <td>0.148026</td>\n",
       "      <td>0.350097</td>\n",
       "      <td>0.355756</td>\n",
       "      <td>0.124365</td>\n",
       "      <td>-0.041264</td>\n",
       "      <td>0.097571</td>\n",
       "    </tr>\n",
       "    <tr>\n",
       "      <th>IPS</th>\n",
       "      <td>0.115935</td>\n",
       "      <td>-0.160725</td>\n",
       "      <td>-0.112726</td>\n",
       "      <td>0.207949</td>\n",
       "      <td>0.071152</td>\n",
       "      <td>0.018643</td>\n",
       "      <td>0.253320</td>\n",
       "      <td>0.148026</td>\n",
       "      <td>1.000000</td>\n",
       "      <td>0.280588</td>\n",
       "      <td>0.287404</td>\n",
       "      <td>0.131963</td>\n",
       "      <td>0.173592</td>\n",
       "      <td>0.005775</td>\n",
       "    </tr>\n",
       "    <tr>\n",
       "      <th>X_res</th>\n",
       "      <td>0.054704</td>\n",
       "      <td>-0.083335</td>\n",
       "      <td>-0.069875</td>\n",
       "      <td>0.434095</td>\n",
       "      <td>0.156245</td>\n",
       "      <td>-0.031866</td>\n",
       "      <td>0.557369</td>\n",
       "      <td>0.350097</td>\n",
       "      <td>0.280588</td>\n",
       "      <td>1.000000</td>\n",
       "      <td>0.994480</td>\n",
       "      <td>0.152866</td>\n",
       "      <td>0.187221</td>\n",
       "      <td>0.069123</td>\n",
       "    </tr>\n",
       "    <tr>\n",
       "      <th>Y_res</th>\n",
       "      <td>0.050464</td>\n",
       "      <td>-0.066997</td>\n",
       "      <td>-0.092934</td>\n",
       "      <td>0.426357</td>\n",
       "      <td>0.158320</td>\n",
       "      <td>-0.052041</td>\n",
       "      <td>0.554591</td>\n",
       "      <td>0.355756</td>\n",
       "      <td>0.287404</td>\n",
       "      <td>0.994480</td>\n",
       "      <td>1.000000</td>\n",
       "      <td>0.157188</td>\n",
       "      <td>0.176606</td>\n",
       "      <td>0.028518</td>\n",
       "    </tr>\n",
       "    <tr>\n",
       "      <th>CPU Brand</th>\n",
       "      <td>0.011650</td>\n",
       "      <td>-0.117511</td>\n",
       "      <td>-0.186115</td>\n",
       "      <td>0.224361</td>\n",
       "      <td>0.038036</td>\n",
       "      <td>-0.057940</td>\n",
       "      <td>0.245597</td>\n",
       "      <td>0.124365</td>\n",
       "      <td>0.131963</td>\n",
       "      <td>0.152866</td>\n",
       "      <td>0.157188</td>\n",
       "      <td>1.000000</td>\n",
       "      <td>0.330619</td>\n",
       "      <td>-0.051377</td>\n",
       "    </tr>\n",
       "    <tr>\n",
       "      <th>GPU Brand</th>\n",
       "      <td>0.038225</td>\n",
       "      <td>-0.248380</td>\n",
       "      <td>0.236978</td>\n",
       "      <td>0.346603</td>\n",
       "      <td>0.006743</td>\n",
       "      <td>0.346947</td>\n",
       "      <td>0.355788</td>\n",
       "      <td>-0.041264</td>\n",
       "      <td>0.173592</td>\n",
       "      <td>0.187221</td>\n",
       "      <td>0.176606</td>\n",
       "      <td>0.330619</td>\n",
       "      <td>1.000000</td>\n",
       "      <td>0.081342</td>\n",
       "    </tr>\n",
       "    <tr>\n",
       "      <th>OS</th>\n",
       "      <td>0.155474</td>\n",
       "      <td>-0.111208</td>\n",
       "      <td>0.083561</td>\n",
       "      <td>0.121304</td>\n",
       "      <td>0.079908</td>\n",
       "      <td>0.080699</td>\n",
       "      <td>0.176937</td>\n",
       "      <td>0.097571</td>\n",
       "      <td>0.005775</td>\n",
       "      <td>0.069123</td>\n",
       "      <td>0.028518</td>\n",
       "      <td>-0.051377</td>\n",
       "      <td>0.081342</td>\n",
       "      <td>1.000000</td>\n",
       "    </tr>\n",
       "  </tbody>\n",
       "</table>\n",
       "</div>"
      ],
      "text/plain": [
       "              Company  TypeName    Inches       Ram    Memory    Weight  \\\n",
       "Company      1.000000 -0.004392 -0.082971  0.047991  0.093403 -0.127763   \n",
       "TypeName    -0.004392  1.000000 -0.080711 -0.244710  0.057328 -0.269762   \n",
       "Inches      -0.082971 -0.080711  1.000000  0.237129 -0.100358  0.827397   \n",
       "Ram          0.047991 -0.244710  0.237129  1.000000  0.183405  0.383362   \n",
       "Memory       0.093403  0.057328 -0.100358  0.183405  1.000000 -0.106959   \n",
       "Weight      -0.127763 -0.269762  0.827397  0.383362 -0.106959  1.000000   \n",
       "Price        0.141705 -0.128608  0.067329  0.742905  0.297800  0.209867   \n",
       "Touchscreen  0.034968 -0.414963 -0.359514  0.118875  0.094737 -0.293004   \n",
       "IPS          0.115935 -0.160725 -0.112726  0.207949  0.071152  0.018643   \n",
       "X_res        0.054704 -0.083335 -0.069875  0.434095  0.156245 -0.031866   \n",
       "Y_res        0.050464 -0.066997 -0.092934  0.426357  0.158320 -0.052041   \n",
       "CPU Brand    0.011650 -0.117511 -0.186115  0.224361  0.038036 -0.057940   \n",
       "GPU Brand    0.038225 -0.248380  0.236978  0.346603  0.006743  0.346947   \n",
       "OS           0.155474 -0.111208  0.083561  0.121304  0.079908  0.080699   \n",
       "\n",
       "                Price  Touchscreen       IPS     X_res     Y_res  CPU Brand  \\\n",
       "Company      0.141705     0.034968  0.115935  0.054704  0.050464   0.011650   \n",
       "TypeName    -0.128608    -0.414963 -0.160725 -0.083335 -0.066997  -0.117511   \n",
       "Inches       0.067329    -0.359514 -0.112726 -0.069875 -0.092934  -0.186115   \n",
       "Ram          0.742905     0.118875  0.207949  0.434095  0.426357   0.224361   \n",
       "Memory       0.297800     0.094737  0.071152  0.156245  0.158320   0.038036   \n",
       "Weight       0.209867    -0.293004  0.018643 -0.031866 -0.052041  -0.057940   \n",
       "Price        1.000000     0.192917  0.253320  0.557369  0.554591   0.245597   \n",
       "Touchscreen  0.192917     1.000000  0.148026  0.350097  0.355756   0.124365   \n",
       "IPS          0.253320     0.148026  1.000000  0.280588  0.287404   0.131963   \n",
       "X_res        0.557369     0.350097  0.280588  1.000000  0.994480   0.152866   \n",
       "Y_res        0.554591     0.355756  0.287404  0.994480  1.000000   0.157188   \n",
       "CPU Brand    0.245597     0.124365  0.131963  0.152866  0.157188   1.000000   \n",
       "GPU Brand    0.355788    -0.041264  0.173592  0.187221  0.176606   0.330619   \n",
       "OS           0.176937     0.097571  0.005775  0.069123  0.028518  -0.051377   \n",
       "\n",
       "             GPU Brand        OS  \n",
       "Company       0.038225  0.155474  \n",
       "TypeName     -0.248380 -0.111208  \n",
       "Inches        0.236978  0.083561  \n",
       "Ram           0.346603  0.121304  \n",
       "Memory        0.006743  0.079908  \n",
       "Weight        0.346947  0.080699  \n",
       "Price         0.355788  0.176937  \n",
       "Touchscreen  -0.041264  0.097571  \n",
       "IPS           0.173592  0.005775  \n",
       "X_res         0.187221  0.069123  \n",
       "Y_res         0.176606  0.028518  \n",
       "CPU Brand     0.330619 -0.051377  \n",
       "GPU Brand     1.000000  0.081342  \n",
       "OS            0.081342  1.000000  "
      ]
     },
     "execution_count": 90,
     "metadata": {},
     "output_type": "execute_result"
    }
   ],
   "source": [
    "df.corr(numeric_only=True)"
   ]
  },
  {
   "cell_type": "code",
   "execution_count": 91,
   "id": "eb36e23c",
   "metadata": {},
   "outputs": [
    {
     "data": {
      "text/plain": [
       "Price          1.000000\n",
       "Ram            0.742905\n",
       "X_res          0.557369\n",
       "Y_res          0.554591\n",
       "GPU Brand      0.355788\n",
       "Memory         0.297800\n",
       "IPS            0.253320\n",
       "CPU Brand      0.245597\n",
       "Weight         0.209867\n",
       "Touchscreen    0.192917\n",
       "OS             0.176937\n",
       "Company        0.141705\n",
       "Inches         0.067329\n",
       "TypeName       0.128608\n",
       "Name: Price, dtype: float64"
      ]
     },
     "execution_count": 91,
     "metadata": {},
     "output_type": "execute_result"
    }
   ],
   "source": [
    "abs(df.corr(numeric_only=True)['Price'].sort_values(ascending=False))"
   ]
  },
  {
   "cell_type": "code",
   "execution_count": 104,
   "id": "4ba8b12e",
   "metadata": {},
   "outputs": [],
   "source": [
    "x = df.drop(columns=['Price','Inches','TypeName','Company'])\n",
    "y = np.log(df['Price'])"
   ]
  },
  {
   "cell_type": "code",
   "execution_count": 105,
   "id": "63421781",
   "metadata": {},
   "outputs": [],
   "source": [
    "from sklearn.model_selection import train_test_split"
   ]
  },
  {
   "cell_type": "code",
   "execution_count": 106,
   "id": "7df2a001",
   "metadata": {},
   "outputs": [],
   "source": [
    "x_train,x_test,y_train,y_test=train_test_split(x,y,test_size=0.20,random_state=42)"
   ]
  },
  {
   "cell_type": "code",
   "execution_count": 107,
   "id": "302b7ad7",
   "metadata": {},
   "outputs": [],
   "source": [
    "from sklearn.linear_model import LinearRegression"
   ]
  },
  {
   "cell_type": "code",
   "execution_count": 108,
   "id": "dae3ed9e",
   "metadata": {},
   "outputs": [],
   "source": [
    "lr=LinearRegression()"
   ]
  },
  {
   "cell_type": "code",
   "execution_count": 109,
   "id": "74e2a6d1",
   "metadata": {},
   "outputs": [],
   "source": [
    "x=pd.get_dummies(x,drop_first=True)"
   ]
  },
  {
   "cell_type": "code",
   "execution_count": 110,
   "id": "4189e7a7",
   "metadata": {},
   "outputs": [],
   "source": [
    "model=lr.fit(x_train,y_train)"
   ]
  },
  {
   "cell_type": "code",
   "execution_count": 111,
   "id": "a3dcc597",
   "metadata": {},
   "outputs": [],
   "source": [
    "tahmin=model.predict(x_test)"
   ]
  },
  {
   "cell_type": "code",
   "execution_count": 112,
   "id": "b8b03f66",
   "metadata": {},
   "outputs": [],
   "source": [
    "from sklearn.metrics import r2_score, mean_squared_error"
   ]
  },
  {
   "cell_type": "code",
   "execution_count": 113,
   "id": "4cc80221",
   "metadata": {},
   "outputs": [
    {
     "data": {
      "text/plain": [
       "0.37543633250357294"
      ]
     },
     "execution_count": 113,
     "metadata": {},
     "output_type": "execute_result"
    }
   ],
   "source": [
    "mean_squared_error(y_test,tahmin)**0.5"
   ]
  },
  {
   "cell_type": "code",
   "execution_count": 114,
   "id": "6cf306aa",
   "metadata": {},
   "outputs": [
    {
     "data": {
      "text/plain": [
       "0.6341688144107829"
      ]
     },
     "execution_count": 114,
     "metadata": {},
     "output_type": "execute_result"
    }
   ],
   "source": [
    "r2_score(y_test,tahmin)"
   ]
  },
  {
   "cell_type": "code",
   "execution_count": 115,
   "id": "db9114ad",
   "metadata": {},
   "outputs": [],
   "source": [
    "from sklearn.linear_model import Ridge, Lasso, ElasticNet"
   ]
  },
  {
   "cell_type": "code",
   "execution_count": 116,
   "id": "7eabe45e",
   "metadata": {},
   "outputs": [],
   "source": [
    "R=Ridge()\n",
    "L=Lasso()\n",
    "E=ElasticNet()"
   ]
  },
  {
   "cell_type": "code",
   "execution_count": 117,
   "id": "3f79d1a5",
   "metadata": {},
   "outputs": [],
   "source": [
    "Rmodel=R.fit(x_train,y_train)"
   ]
  },
  {
   "cell_type": "code",
   "execution_count": 118,
   "id": "034a55fb",
   "metadata": {},
   "outputs": [],
   "source": [
    "tahmin2=Rmodel.predict(x_test)"
   ]
  },
  {
   "cell_type": "code",
   "execution_count": 119,
   "id": "55f255d9",
   "metadata": {},
   "outputs": [
    {
     "data": {
      "text/plain": [
       "0.3754626251057755"
      ]
     },
     "execution_count": 119,
     "metadata": {},
     "output_type": "execute_result"
    }
   ],
   "source": [
    "mean_squared_error(y_test,tahmin2)**0.5"
   ]
  },
  {
   "cell_type": "code",
   "execution_count": 120,
   "id": "cac18732",
   "metadata": {},
   "outputs": [
    {
     "data": {
      "text/plain": [
       "0.6341175727497579"
      ]
     },
     "execution_count": 120,
     "metadata": {},
     "output_type": "execute_result"
    }
   ],
   "source": [
    "r2_score(y_test,tahmin2)"
   ]
  },
  {
   "cell_type": "code",
   "execution_count": 121,
   "id": "e5f4776b",
   "metadata": {},
   "outputs": [],
   "source": [
    "Lmodel=L.fit(x_train,y_train)"
   ]
  },
  {
   "cell_type": "code",
   "execution_count": 122,
   "id": "ecd2c54e",
   "metadata": {},
   "outputs": [],
   "source": [
    "tahmin3=Lmodel.predict(x_test)"
   ]
  },
  {
   "cell_type": "code",
   "execution_count": 123,
   "id": "7d91f8dd",
   "metadata": {},
   "outputs": [
    {
     "data": {
      "text/plain": [
       "0.45336240007081957"
      ]
     },
     "execution_count": 123,
     "metadata": {},
     "output_type": "execute_result"
    }
   ],
   "source": [
    "mean_squared_error(y_test,tahmin3)**0.5"
   ]
  },
  {
   "cell_type": "code",
   "execution_count": 124,
   "id": "5f91e443",
   "metadata": {},
   "outputs": [
    {
     "data": {
      "text/plain": [
       "0.4665433608533919"
      ]
     },
     "execution_count": 124,
     "metadata": {},
     "output_type": "execute_result"
    }
   ],
   "source": [
    "r2_score(y_test,tahmin3)"
   ]
  },
  {
   "cell_type": "code",
   "execution_count": 125,
   "id": "7a9757c9",
   "metadata": {},
   "outputs": [],
   "source": [
    "Emodel=E.fit(x_train,y_train)"
   ]
  },
  {
   "cell_type": "code",
   "execution_count": 126,
   "id": "7c5f3945",
   "metadata": {},
   "outputs": [],
   "source": [
    "tahmin4=Emodel.predict(x_test)"
   ]
  },
  {
   "cell_type": "code",
   "execution_count": 127,
   "id": "d9954d57",
   "metadata": {},
   "outputs": [
    {
     "data": {
      "text/plain": [
       "0.4217132258553746"
      ]
     },
     "execution_count": 127,
     "metadata": {},
     "output_type": "execute_result"
    }
   ],
   "source": [
    "mean_squared_error(y_test,tahmin4)**0.5"
   ]
  },
  {
   "cell_type": "code",
   "execution_count": 128,
   "id": "a5fb00cc",
   "metadata": {},
   "outputs": [
    {
     "data": {
      "text/plain": [
       "0.538424689715965"
      ]
     },
     "execution_count": 128,
     "metadata": {},
     "output_type": "execute_result"
    }
   ],
   "source": [
    "r2_score(y_test,tahmin4)"
   ]
  },
  {
   "cell_type": "code",
   "execution_count": 129,
   "id": "95c409f9",
   "metadata": {},
   "outputs": [],
   "source": [
    "from sklearn.tree import DecisionTreeRegressor"
   ]
  },
  {
   "cell_type": "code",
   "execution_count": 130,
   "id": "d4f96eef",
   "metadata": {},
   "outputs": [],
   "source": [
    "dt=DecisionTreeRegressor()"
   ]
  },
  {
   "cell_type": "code",
   "execution_count": 131,
   "id": "a742838a",
   "metadata": {},
   "outputs": [],
   "source": [
    "Dmodel=dt.fit(x_train,y_train)\n"
   ]
  },
  {
   "cell_type": "code",
   "execution_count": 132,
   "id": "fc773602",
   "metadata": {},
   "outputs": [],
   "source": [
    "tahmin5=dt.predict(x_test)"
   ]
  },
  {
   "cell_type": "code",
   "execution_count": 133,
   "id": "d50f1cfa",
   "metadata": {},
   "outputs": [
    {
     "data": {
      "text/plain": [
       "0.3192464987119797"
      ]
     },
     "execution_count": 133,
     "metadata": {},
     "output_type": "execute_result"
    }
   ],
   "source": [
    "mean_squared_error(y_test,tahmin5)**0.5"
   ]
  },
  {
   "cell_type": "code",
   "execution_count": 134,
   "id": "d782cb44",
   "metadata": {},
   "outputs": [
    {
     "data": {
      "text/plain": [
       "0.7354788435008629"
      ]
     },
     "execution_count": 134,
     "metadata": {},
     "output_type": "execute_result"
    }
   ],
   "source": [
    "r2_score(y_test,tahmin5)"
   ]
  },
  {
   "cell_type": "code",
   "execution_count": 135,
   "id": "a08db509",
   "metadata": {},
   "outputs": [],
   "source": [
    "from sklearn.ensemble import ExtraTreesRegressor"
   ]
  },
  {
   "cell_type": "code",
   "execution_count": 136,
   "id": "89bc3c3f",
   "metadata": {},
   "outputs": [],
   "source": [
    "ET=ExtraTreesRegressor()"
   ]
  },
  {
   "cell_type": "code",
   "execution_count": 137,
   "id": "4ab70e0c",
   "metadata": {},
   "outputs": [],
   "source": [
    "ETModel=ET.fit(x_train, y_train)"
   ]
  },
  {
   "cell_type": "code",
   "execution_count": 138,
   "id": "c0d11742",
   "metadata": {},
   "outputs": [],
   "source": [
    "tahmin6=ET.predict(x_test)"
   ]
  },
  {
   "cell_type": "code",
   "execution_count": 139,
   "id": "ea768775",
   "metadata": {},
   "outputs": [
    {
     "data": {
      "text/plain": [
       "0.25316948241661097"
      ]
     },
     "execution_count": 139,
     "metadata": {},
     "output_type": "execute_result"
    }
   ],
   "source": [
    "mean_squared_error(y_test,tahmin6)**0.5"
   ]
  },
  {
   "cell_type": "code",
   "execution_count": 140,
   "id": "8b7cb755",
   "metadata": {},
   "outputs": [
    {
     "data": {
      "text/plain": [
       "0.8336469244920637"
      ]
     },
     "execution_count": 140,
     "metadata": {},
     "output_type": "execute_result"
    }
   ],
   "source": [
    "r2_score(y_test,tahmin6)"
   ]
  },
  {
   "cell_type": "code",
   "execution_count": null,
   "id": "8b18d689",
   "metadata": {},
   "outputs": [],
   "source": []
  }
 ],
 "metadata": {
  "kernelspec": {
   "display_name": "Python 3 (ipykernel)",
   "language": "python",
   "name": "python3"
  },
  "language_info": {
   "codemirror_mode": {
    "name": "ipython",
    "version": 3
   },
   "file_extension": ".py",
   "mimetype": "text/x-python",
   "name": "python",
   "nbconvert_exporter": "python",
   "pygments_lexer": "ipython3",
   "version": "3.12.4"
  }
 },
 "nbformat": 4,
 "nbformat_minor": 5
}
